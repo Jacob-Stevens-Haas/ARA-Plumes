{
 "cells": [
  {
   "attachments": {},
   "cell_type": "markdown",
   "metadata": {},
   "source": [
    "# Import utils file"
   ]
  },
  {
   "cell_type": "code",
   "execution_count": null,
   "metadata": {},
   "outputs": [],
   "source": [
    "from utils import extract_all_frames, fixed_average_subtract, moving_average_subtract "
   ]
  },
  {
   "attachments": {},
   "cell_type": "markdown",
   "metadata": {},
   "source": [
    "# Save frames from video"
   ]
  },
  {
   "cell_type": "code",
   "execution_count": null,
   "metadata": {},
   "outputs": [],
   "source": [
    "video_path = \"/Users/Malachite/Documents/UW/ARA/Plumes/July_20/video_low_2/low_2.MP4\"\n",
    "\n",
    "# Optional Arguments\n",
    "save_path = \"frames\" # Default \"frames\"\n",
    "extension = \"png\" # Default \"png\"\n",
    "\n",
    "# might take a while to run\n",
    "# Will save all frames to created folder \"frames\"\n",
    "extract_all_frames(video_path=video_path)"
   ]
  },
  {
   "attachments": {},
   "cell_type": "markdown",
   "metadata": {},
   "source": [
    "# Appying background subtraction"
   ]
  },
  {
   "attachments": {},
   "cell_type": "markdown",
   "metadata": {},
   "source": [
    "## Fixed Background subtraction"
   ]
  },
  {
   "cell_type": "code",
   "execution_count": null,
   "metadata": {},
   "outputs": [],
   "source": [
    "# Frames you want to apply subtraction - be the frames from the extract_all_frames\n",
    "frames_path = \"path to frames\"\n",
    "background_range =[\"start int\",  \"end int\"]\n",
    "\n",
    "# Optional Arguments\n",
    "frames_range = [\"start int\", \"end int\"] # Default is all frames after background range\n",
    "save_path = \"fixed_avg_frames\" # Default \"fixed_avg_frames\"\n",
    "\n",
    "# Will save all frames to folder created from save_path\n",
    "fixed_average_subtract(frames_path=frames_path,\n",
    "                       background_range=background_range)\n"
   ]
  },
  {
   "cell_type": "markdown",
   "metadata": {},
   "source": [
    "# Testing PLUME object"
   ]
  },
  {
   "cell_type": "code",
   "execution_count": 1,
   "metadata": {},
   "outputs": [],
   "source": [
    "from models import PLUME\n",
    "import matplotlib.pyplot as plt\n",
    "import cv2"
   ]
  },
  {
   "cell_type": "code",
   "execution_count": 2,
   "metadata": {},
   "outputs": [
    {
     "ename": "TypeError",
     "evalue": "orig_center must be declared as <class 'tuple'>.\nPlease declare center or us find_center function.",
     "output_type": "error",
     "traceback": [
      "\u001b[0;31m---------------------------------------------------------------------------\u001b[0m",
      "\u001b[0;31mTypeError\u001b[0m                                 Traceback (most recent call last)",
      "Cell \u001b[0;32mIn[2], line 11\u001b[0m\n\u001b[1;32m      7\u001b[0m center \u001b[39m=\u001b[39m (\u001b[39m1587\u001b[39m,\u001b[39m1008\u001b[39m)\n\u001b[1;32m      8\u001b[0m \u001b[39m# tracker.orig_center = center\u001b[39;00m\n\u001b[0;32m---> 11\u001b[0m out_data \u001b[39m=\u001b[39m tracker\u001b[39m.\u001b[39;49mconcentric_circle(img)\n\u001b[1;32m     13\u001b[0m out_img \u001b[39m=\u001b[39m out_data[\u001b[39m0\u001b[39m]\n\u001b[1;32m     15\u001b[0m plt\u001b[39m.\u001b[39mimshow(out_img)\n",
      "File \u001b[0;32m~/Documents/UW/ARA/ARA-Plumes/models.py:47\u001b[0m, in \u001b[0;36mPLUME.concentric_circle\u001b[0;34m(self, img, contour_smoothing, contour_smoothing_eps, radii, num_of_circs, fit_poly, boundary_ring, interior_ring, interior_scale, rtol, atol, poly_deg, x_less, x_plus, mean_smoothing, mean_smoothing_sigma)\u001b[0m\n\u001b[1;32m     45\u001b[0m \u001b[39m# Check that original center has been declared\u001b[39;00m\n\u001b[1;32m     46\u001b[0m \u001b[39mif\u001b[39;00m \u001b[39mnot\u001b[39;00m \u001b[39misinstance\u001b[39m(\u001b[39mself\u001b[39m\u001b[39m.\u001b[39morig_center, \u001b[39mtuple\u001b[39m):\n\u001b[0;32m---> 47\u001b[0m     \u001b[39mraise\u001b[39;00m \u001b[39mTypeError\u001b[39;00m(\u001b[39mf\u001b[39m\u001b[39m\"\u001b[39m\u001b[39morig_center must be declared as \u001b[39m\u001b[39m{\u001b[39;00m\u001b[39mtuple\u001b[39m\u001b[39m}\u001b[39;00m\u001b[39m.\u001b[39m\u001b[39m\\n\u001b[39;00m\u001b[39mPlease declare center or us find_center function.\u001b[39m\u001b[39m\"\u001b[39m)\n\u001b[1;32m     49\u001b[0m \u001b[39m# convert image to gray\u001b[39;00m\n\u001b[1;32m     50\u001b[0m img_gray \u001b[39m=\u001b[39m cv2\u001b[39m.\u001b[39mcvtColor(img, cv2\u001b[39m.\u001b[39mCOLOR_BGR2GRAY)\n",
      "\u001b[0;31mTypeError\u001b[0m: orig_center must be declared as <class 'tuple'>.\nPlease declare center or us find_center function."
     ]
    }
   ],
   "source": [
    "video_path = \"/Users/Malachite/Documents/UW/ARA/ARA-Plumes/plume_videos/July_20/video_high_1/high_1.MP4\"\n",
    "tracker = PLUME(video_path=video_path)\n",
    "\n",
    "img_path = \"/Users/Malachite/Documents/UW/ARA/ARA-Plumes/plume_videos/July_20/video_high_1/fixed_avg_frames/subtract_0256.png\"\n",
    "img = cv2.imread(img_path)\n",
    "\n",
    "center = (1587,1008)\n",
    "# tracker.orig_center = center\n",
    "\n",
    "\n",
    "out_data = tracker.concentric_circle(img)\n",
    "\n",
    "out_img = out_data[0]\n",
    "\n",
    "plt.imshow(out_img)\n",
    "plt.xticks([]), plt.yticks([])  \n",
    "plt.show()"
   ]
  },
  {
   "cell_type": "code",
   "execution_count": null,
   "metadata": {},
   "outputs": [],
   "source": [
    "from utils import learn_center_var\n",
    "\n",
    "out_data = learn_center_var(img_path=img_path,\n",
    "                            orig_center=center,\n",
    "                            boundary_ring=False)\n",
    "out_img = out_data[0]\n",
    "\n",
    "plt.imshow(out_img)\n",
    "plt.xticks([]), plt.yticks([])\n",
    "plt.show()"
   ]
  },
  {
   "cell_type": "code",
   "execution_count": null,
   "metadata": {},
   "outputs": [],
   "source": []
  }
 ],
 "metadata": {
  "kernelspec": {
   "display_name": "ARA-plume",
   "language": "python",
   "name": "python3"
  },
  "language_info": {
   "codemirror_mode": {
    "name": "ipython",
    "version": 3
   },
   "file_extension": ".py",
   "mimetype": "text/x-python",
   "name": "python",
   "nbconvert_exporter": "python",
   "pygments_lexer": "ipython3",
   "version": "3.11.4"
  },
  "orig_nbformat": 4
 },
 "nbformat": 4,
 "nbformat_minor": 2
}
