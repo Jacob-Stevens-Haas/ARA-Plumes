{
 "cells": [
  {
   "cell_type": "code",
   "execution_count": 2,
   "metadata": {},
   "outputs": [],
   "source": [
    "import sys\n",
    "sys.path.append('/Users/Malachite/Documents/UW/ARA/Plumes/')\n",
    "\n",
    "from utils import *"
   ]
  },
  {
   "attachments": {},
   "cell_type": "markdown",
   "metadata": {},
   "source": [
    "# Extract Video frames"
   ]
  },
  {
   "cell_type": "code",
   "execution_count": 3,
   "metadata": {},
   "outputs": [],
   "source": [
    "video_path = \"/Users/Malachite/Documents/UW/ARA/Plumes/incense/vid_0_50_100_150.mov\"\n",
    "\n",
    "extract_all_frames(video_path=video_path)"
   ]
  },
  {
   "attachments": {},
   "cell_type": "markdown",
   "metadata": {},
   "source": [
    "# Create Frames\n",
    "\n",
    "frame 1600 - 2000"
   ]
  },
  {
   "cell_type": "code",
   "execution_count": 7,
   "metadata": {},
   "outputs": [
    {
     "name": "stderr",
     "output_type": "stream",
     "text": [
      "100%|██████████| 900/900 [00:32<00:00, 27.70it/s]\n"
     ]
    }
   ],
   "source": [
    "frames_dir = \"/Users/Malachite/Documents/UW/ARA/Plumes/incense/frames\"\n",
    "frames_range = [1600, 2500]\n",
    "duration = 25 # Number of miliseconds per frame\n",
    "gif_name = \"incense\"\n",
    "\n",
    "create_gif(frames_dir=frames_dir,\n",
    "           frames_range=frames_range,\n",
    "           duration=duration,\n",
    "           gif_name=gif_name)"
   ]
  },
  {
   "cell_type": "code",
   "execution_count": null,
   "metadata": {},
   "outputs": [],
   "source": []
  }
 ],
 "metadata": {
  "kernelspec": {
   "display_name": "ARA",
   "language": "python",
   "name": "python3"
  },
  "language_info": {
   "codemirror_mode": {
    "name": "ipython",
    "version": 3
   },
   "file_extension": ".py",
   "mimetype": "text/x-python",
   "name": "python",
   "nbconvert_exporter": "python",
   "pygments_lexer": "ipython3",
   "version": "3.11.3"
  },
  "orig_nbformat": 4
 },
 "nbformat": 4,
 "nbformat_minor": 2
}
