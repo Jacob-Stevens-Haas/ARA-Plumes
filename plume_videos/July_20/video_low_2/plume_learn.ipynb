{
 "cells": [
  {
   "cell_type": "markdown",
   "metadata": {},
   "source": [
    "# Learning on `low_2.mp4` taken on July 20th, 2023\n",
    "We run through the two-step process of learning a reduced order model for plume dynamics.\n",
    "1. Applying plume_learner to video data to acquire a time series of polynomial coefficients learned ($X$). For both mean plume path and paths of edges of plume. $$X_{\\text{mean}} = \\begin{bmatrix} a_0 & b_0 & c_0\\\\ a_1 & b_1 & c_1\\\\ & \\vdots & \\\\ a_n & b_n & c_n\\end{bmatrix} $$ where $a(t)x^2 + b(t)x + c(t)$ are the learned polynomials for the mean path of plume.\n",
    "\n",
    "2. Applying Model Discovery method to learned time series $X$. Primarily working with Ensemble SINDy methods."
   ]
  },
  {
   "cell_type": "markdown",
   "metadata": {},
   "source": [
    "## Import PLUME object from models.py"
   ]
  },
  {
   "cell_type": "code",
   "execution_count": null,
   "metadata": {},
   "outputs": [],
   "source": [
    "import sys\n",
    "sys.path.append('/Users/Malachite/Documents/UW/ARA/ARA-Plumes/')\n",
    "from models import PLUME"
   ]
  },
  {
   "attachments": {},
   "cell_type": "markdown",
   "metadata": {},
   "source": [
    "## Instantiate PLUME object\n",
    "\n",
    "Videos can be found on Doppio in `home/ara/data/plume_videos` directory\n",
    "\n",
    "We will work with the low velocity video `low_2.MP4` taken on July 20th, 2023."
   ]
  },
  {
   "cell_type": "code",
   "execution_count": null,
   "metadata": {},
   "outputs": [],
   "source": [
    "# specify path to video (Example videos can be found on Doppio)\n",
    "video_path = \"/Users/Malachite/Documents/UW/ARA/ARA-Plumes/plume_videos/July_20/video_low_2/low_2.MP4\"\n",
    "plume_learner = PLUME(video_path=video_path)"
   ]
  },
  {
   "cell_type": "markdown",
   "metadata": {},
   "source": [
    "### Declare $(x,y)$ leak source of plume\n",
    "helper functions `VideoPointPicker` & `ImagePointPicker` from `utils.py` can be used to find original leak source. \n",
    "\n",
    "Example code can be found in `test_functions/get_center.py`"
   ]
  },
  {
   "cell_type": "code",
   "execution_count": null,
   "metadata": {},
   "outputs": [],
   "source": [
    "plume_leak_source = (1588, 1017)\n",
    "plume_learner.orig_center = plume_leak_source"
   ]
  },
  {
   "cell_type": "markdown",
   "metadata": {},
   "source": [
    "### Declare `fixed_range` for background subtraction and `img_range` to apply concentric circle method"
   ]
  },
  {
   "cell_type": "code",
   "execution_count": null,
   "metadata": {},
   "outputs": [],
   "source": [
    "# Seconds until plume start\n",
    "seconds = 4\n",
    "\n",
    "# Frames until plume starts (used to create background image to apply fixed subtraction method)\n",
    "fps= plume_learner.fps\n",
    "fixed_range = seconds*fps\n",
    "\n",
    "# Image range to apply concentric circle method \n",
    "img_range=[fixed_range+220,10*plume_learner.fps]"
   ]
  },
  {
   "cell_type": "markdown",
   "metadata": {},
   "source": [
    "## Apply Concentric Circle method\n",
    "*can take a little while to run*"
   ]
  },
  {
   "cell_type": "code",
   "execution_count": null,
   "metadata": {},
   "outputs": [],
   "source": [
    "save_path = \"gauss_time_blur/gauss_time_blur\"\n",
    "\n",
    "gauss_space_blur = True\n",
    "gauss_kernel_size = 251\n",
    "gauss_space_sigma = 105\n",
    "\n",
    "gauss_time_blur = True\n",
    "gauss_time_window = 5\n",
    "gauss_time_sigma =0.5\n",
    "\n",
    "\n",
    "mean_smoothing = True\n",
    "mean_smoothing_sigma = 3\n",
    "\n",
    "plume_learner.train(img_range=img_range,\n",
    "                    fixed_range=fixed_range,\n",
    "                    gauss_space_blur=gauss_space_blur,\n",
    "                    gauss_kernel_size=gauss_kernel_size,\n",
    "                    gauss_space_sigma=gauss_space_sigma,\n",
    "                    gauss_time_blur=gauss_time_blur,\n",
    "                    gauss_time_window=gauss_time_window,\n",
    "                    gauss_time_sigma=gauss_time_sigma,\n",
    "                    mean_smoothing=mean_smoothing,\n",
    "                    mean_smoothing_sigma=mean_smoothing_sigma,\n",
    "                    save_path=save_path)"
   ]
  },
  {
   "attachments": {},
   "cell_type": "markdown",
   "metadata": {},
   "source": [
    "# Save arrays to pickle File"
   ]
  },
  {
   "cell_type": "code",
   "execution_count": 3,
   "metadata": {},
   "outputs": [],
   "source": [
    "import pickle"
   ]
  },
  {
   "cell_type": "markdown",
   "metadata": {},
   "source": [
    "### Save poly coeff from plume_learner"
   ]
  },
  {
   "cell_type": "code",
   "execution_count": null,
   "metadata": {},
   "outputs": [],
   "source": [
    "# arrays_dict = {}\n",
    "# arrays_dict[\"mean\"] = plume_learner.mean_poly\n",
    "# arrays_dict[\"var1\"] = plume_learner.var1_poly\n",
    "# arrays_dict[\"var2\"] = plume_learner.var2_poly\n",
    "\n",
    "# pickle_name =\"gauss_time_blue/gauss_blur_coeff.pkl\"\n",
    "\n",
    "# with open(pickle_name, 'wb') as f:\n",
    "#     pickle.dump(arrays_dict,f)"
   ]
  },
  {
   "cell_type": "markdown",
   "metadata": {},
   "source": [
    "### Load poly coeff from pickle file"
   ]
  },
  {
   "cell_type": "code",
   "execution_count": 4,
   "metadata": {},
   "outputs": [],
   "source": [
    "pickle_path = \"/Users/Malachite/Documents/UW/ARA/ARA-Plumes/plume_videos/July_20/video_low_2/gauss_time_blur/gauss_blur_coeff.pkl\"\n",
    "\n",
    "with open(pickle_path, 'rb') as f:\n",
    "    loaded_arrays = pickle.load(f)\n",
    "\n",
    "mean_array = loaded_arrays[\"mean\"]\n",
    "var1_array = loaded_arrays[\"var1\"]\n",
    "var2_array = loaded_arrays[\"var2\"]"
   ]
  },
  {
   "cell_type": "code",
   "execution_count": 5,
   "metadata": {},
   "outputs": [
    {
     "data": {
      "text/plain": [
       "array([[ 5.88582800e-04, -8.85051004e-01,  8.18315917e+02],\n",
       "       [ 5.77823178e-04, -8.69222005e-01,  8.17448827e+02],\n",
       "       [ 5.46819424e-04, -8.01833792e-01,  7.84211536e+02],\n",
       "       ...,\n",
       "       [ 7.77881822e-04, -1.21834302e+00,  8.98788749e+02],\n",
       "       [ 7.50397518e-04, -1.15873613e+00,  8.68822371e+02],\n",
       "       [ 7.63769380e-04, -1.19877407e+00,  8.96061940e+02]])"
      ]
     },
     "execution_count": 5,
     "metadata": {},
     "output_type": "execute_result"
    }
   ],
   "source": [
    "mean_array"
   ]
  },
  {
   "cell_type": "markdown",
   "metadata": {},
   "source": [
    "# Apply ensemble SINDy"
   ]
  },
  {
   "cell_type": "code",
   "execution_count": 1,
   "metadata": {},
   "outputs": [],
   "source": [
    "import pysindy as ps \n",
    "from sklearn.preprocessing import StandardScaler\n",
    "import numpy as np\n",
    "import matplotlib.pyplot as plt"
   ]
  },
  {
   "cell_type": "code",
   "execution_count": 41,
   "metadata": {},
   "outputs": [],
   "source": [
    "def sindy_pipeline(time_series,\n",
    "                   window_length,\n",
    "                   ensem_thresh,\n",
    "                   ensem_alpha,\n",
    "                   ensem_max_iter):\n",
    "    \n",
    "    ##############################\n",
    "    ## Apply normalized scaling ##\n",
    "    ##############################\n",
    "\n",
    "    t = np.array([i for i in range(len(mean_array))])\n",
    "    scalar = StandardScaler()\n",
    "    normalized_time_series = scalar.fit_transform(time_series)\n",
    "\n",
    "    ##########################\n",
    "    ## Apply Ensemble SINDy ##\n",
    "    ##########################\n",
    "    feature_names = ['a', 'b', 'c']\n",
    "    smoothed_fd = ps.SmoothedFiniteDifference(smoother_kws={'window_length': window_length})\n",
    "    ensemble_optimizer = ps.STLSQ(threshold=ensem_thresh, alpha=ensem_alpha, max_iter=ensem_max_iter)\n",
    "\n",
    "    model = ps.SINDy(feature_names=feature_names,\n",
    "                     optimizer=ensemble_optimizer,\n",
    "                     differentiation_method=smoothed_fd)\n",
    "    \n",
    "    model.fit(normalized_time_series, t=t, ensemble=True, quiet=True)\n",
    "\n",
    "    print(\"window_length: {}, thresh: {}, alpha: {}, max iter: {}\".format(window_length, ensem_thresh, ensem_alpha, ensem_max_iter))\n",
    "    model.print()\n",
    "\n",
    "    ######################\n",
    "    ## Solve ODE system ##\n",
    "    ######################\n",
    "    X_train = normalized_time_series\n",
    "    t_train = t\n",
    "    x0 = X_train[0]\n",
    "\n",
    "    X_train_sim = model.simulate(x0,t_train)\n",
    "\n",
    "    ##################\n",
    "    ## Plot Results ##\n",
    "    ##################\n",
    "    m = min(X_train.shape[0],X_train_sim.shape[0])\n",
    "\n",
    "    fig, axs = plt.subplots(1,X_train.shape[1], sharex=True, figsize=(12, 3))\n",
    "    # fig.suptitle(\"Learned Normalized Coefficients\")  # Add this line to set the title\n",
    "\n",
    "    for i in range(X_train.shape[1]):\n",
    "        if i == X_train.shape[1]-1:\n",
    "            axs[i].plot(t_train[:m], X_train[:m, i], \"k\", label=\"true normalized data\")\n",
    "            axs[i].plot(t_train[:m], X_train_sim[:m, i], \"r--\", label=\"model simulation\")\n",
    "            axs[i].legend(loc=\"best\")\n",
    "        else:\n",
    "            axs[i].plot(t_train[:m], X_train[:m, i], \"k\")\n",
    "            axs[i].plot(t_train[:m], X_train_sim[:m, i], \"r--\")\n",
    "        axs[i].set(xlabel=\"t\")\n",
    "        axs[i].set_title(\"Coeff {}\".format(feature_names[i]))\n",
    "    fig.show()\n",
    "\n",
    "    ########################\n",
    "    ## Compute accuracies ##\n",
    "    ########################\n",
    "    \n",
    "\n",
    "    return"
   ]
  },
  {
   "cell_type": "code",
   "execution_count": 42,
   "metadata": {},
   "outputs": [
    {
     "name": "stdout",
     "output_type": "stream",
     "text": [
      "window_length: 5, thresh: 0.1, alpha: 0.001, max iter: 200\n",
      "(a)' = -1.379 a + -2.139 b + -0.793 c + 0.609 a^2 + 0.616 a b + -0.543 b^2 + -0.814 b c + -0.246 c^2\n",
      "(b)' = 1.334 a + 2.058 b + 0.763 c + -0.559 a^2 + -0.544 a b + 0.533 b^2 + 0.765 b c + 0.231 c^2\n",
      "(c)' = -1.201 a + -1.839 b + -0.681 c + 0.430 a^2 + 0.338 a b + -0.540 b^2 + -0.653 b c + -0.191 c^2\n"
     ]
    },
    {
     "data": {
      "image/png": "[encoded data removed]",
      "text/plain": [
       "<Figure size 1200x300 with 3 Axes>"
      ]
     },
     "metadata": {},
     "output_type": "display_data"
    }
   ],
   "source": [
    "time_series = mean_array\n",
    "window_length = 5\n",
    "ensem_thresh = 0.1\n",
    "ensem_alpha = 1e-3\n",
    "ensem_max_iter = 200\n",
    "\n",
    "sindy_pipeline(time_series = mean_array,\n",
    "               window_length=window_length,\n",
    "               ensem_thresh = ensem_thresh,\n",
    "               ensem_alpha=ensem_alpha,\n",
    "               ensem_max_iter=ensem_max_iter)"
   ]
  },
  {
   "cell_type": "code",
   "execution_count": 21,
   "metadata": {},
   "outputs": [
    {
     "name": "stdout",
     "output_type": "stream",
     "text": [
      "(a)' = -1.379 a + -2.139 b + -0.793 c + 0.609 a^2 + 0.616 a b + -0.543 b^2 + -0.814 b c + -0.246 c^2\n",
      "(b)' = 1.334 a + 2.058 b + 0.763 c + -0.559 a^2 + -0.544 a b + 0.533 b^2 + 0.765 b c + 0.231 c^2\n",
      "(c)' = -1.201 a + -1.839 b + -0.681 c + 0.430 a^2 + 0.338 a b + -0.540 b^2 + -0.653 b c + -0.191 c^2\n"
     ]
    }
   ],
   "source": [
    "t = np.array([i for i in range(len(mean_array))])\n",
    "scalar = StandardScaler()\n",
    "normalized_mean_array = scalar.fit_transform(mean_array)\n",
    "\n",
    "thresh = 0.1\n",
    "feature_names = ['a', 'b', 'c']\n",
    "smoothed_fd = ps.SmoothedFiniteDifference(smoother_kws = {'window_length': 5})\n",
    "\n",
    "ensemble_optimizer = ps.STLSQ(threshold=thresh, alpha = 1e-3, max_iter=200)\n",
    "model = ps.SINDy(feature_names=feature_names,\n",
    "                optimizer=ensemble_optimizer,\n",
    "                differentiation_method=smoothed_fd)\n",
    "model.fit(normalized_mean_array,t=t, ensemble=True,quiet=True)\n",
    "model.print()"
   ]
  },
  {
   "cell_type": "markdown",
   "metadata": {},
   "source": [
    "### plot normalized coefficients and learned derivatives"
   ]
  },
  {
   "cell_type": "code",
   "execution_count": null,
   "metadata": {},
   "outputs": [],
   "source": [
    "smoothed_fd = ps.SmoothedFiniteDifference(smoother_kws={'window_length': 8})\n",
    "\n",
    "x_dot = smoothed_fd._differentiate(normalized_mean_array, t)\n",
    "\n",
    "# Create a 2x2 grid of subplots\n",
    "fig, axs = plt.subplots(2, 2, figsize=(8, 5))\n",
    "\n",
    "# Plot the first set of data (a and a') in the first subplot\n",
    "axs[0, 0].plot(t, normalized_mean_array[:,0], label=\"a\")\n",
    "axs[0, 0].plot(t, x_dot[:,0], label=\"a'\")\n",
    "axs[0, 0].legend()\n",
    "\n",
    "# Plot the second set of data (b and b') in the second subplot\n",
    "axs[0, 1].plot(t, normalized_mean_array[:,1], label=\"b\")\n",
    "axs[0, 1].plot(t, x_dot[:,1], label=\"b'\")\n",
    "axs[0, 1].legend()\n",
    "\n",
    "# Plot the third set of data (c and c') in the third subplot\n",
    "axs[1, 0].plot(t, normalized_mean_array[:,2], label=\"c\")\n",
    "axs[1, 0].plot(t, x_dot[:,2], label=\"c'\")\n",
    "axs[1, 0].legend()\n",
    "\n",
    "# Hide the empty fourth subplot\n",
    "axs[1, 1].axis('off')\n",
    "\n",
    "fig.suptitle('Coefficients and Learned Derivatives', fontsize=16)\n",
    "\n",
    "# Adjust layout and display the subplot\n",
    "plt.tight_layout()\n",
    "plt.show()"
   ]
  },
  {
   "cell_type": "markdown",
   "metadata": {},
   "source": [
    "### Solve normalized ODE system"
   ]
  },
  {
   "cell_type": "code",
   "execution_count": 23,
   "metadata": {},
   "outputs": [],
   "source": [
    "X_train = normalized_mean_array\n",
    "t_train = t\n",
    "x0 = X_train[0]\n",
    "\n",
    "X_train_sim = model.simulate(x0,t_train)"
   ]
  },
  {
   "cell_type": "code",
   "execution_count": 24,
   "metadata": {},
   "outputs": [
    {
     "data": {
      "text/plain": [
       "(494, 3)"
      ]
     },
     "execution_count": 24,
     "metadata": {},
     "output_type": "execute_result"
    }
   ],
   "source": [
    "X_train.shape"
   ]
  },
  {
   "cell_type": "code",
   "execution_count": null,
   "metadata": {},
   "outputs": [],
   "source": [
    "m = min(X_train.shape[0],X_train_sim.shape[0])\n",
    "\n",
    "fig, axs = plt.subplots(X_train.shape[1], 1, sharex=True, figsize=(7, 9))\n",
    "fig.suptitle(\"Learned Normalized Coefficients\")  # Add this line to set the title\n",
    "\n",
    "for i in range(X_train.shape[1]):\n",
    "    axs[i].plot(t_train[:m], X_train[:m, i], \"k\", label=\"true normalized data\")\n",
    "    axs[i].plot(t_train[:m], X_train_sim[:m, i], \"r--\", label=\"model simulation\")\n",
    "    axs[i].legend()\n",
    "    axs[i].set(xlabel=\"t\", ylabel=\"Coeff {}\".format(feature_names[i]))\n",
    "fig.show()"
   ]
  },
  {
   "cell_type": "code",
   "execution_count": null,
   "metadata": {},
   "outputs": [],
   "source": []
  }
 ],
 "metadata": {
  "kernelspec": {
   "display_name": "ARA-plume",
   "language": "python",
   "name": "python3"
  },
  "language_info": {
   "codemirror_mode": {
    "name": "ipython",
    "version": 3
   },
   "file_extension": ".py",
   "mimetype": "text/x-python",
   "name": "python",
   "nbconvert_exporter": "python",
   "pygments_lexer": "ipython3",
   "version": "3.11.4"
  },
  "orig_nbformat": 4
 },
 "nbformat": 4,
 "nbformat_minor": 2
}
