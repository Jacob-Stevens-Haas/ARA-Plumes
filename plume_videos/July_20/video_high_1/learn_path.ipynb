{
 "cells": [
  {
   "cell_type": "code",
   "execution_count": 1,
   "metadata": {},
   "outputs": [],
   "source": [
    "import sys\n",
    "import pickle\n",
    "sys.path.append('/Users/Malachite/Documents/UW/ARA/ARA-Plumes')\n",
    "\n",
    "from utils import *"
   ]
  },
  {
   "cell_type": "code",
   "execution_count": null,
   "metadata": {},
   "outputs": [],
   "source": [
    "frames_path = \"/Users/Malachite/Documents/UW/ARA/ARA-Plumes/plume_videos/July_20/video_high_1/fixed_avg_frames\"\n",
    "orig_center = (1587, 1035)\n",
    "mean_array, var1_array, var2_array = find_center_of_mass(frames_path=frames_path,\n",
    "                                                         center=orig_center,\n",
    "                                                         num_of_circs=22,\n",
    "                                                         radii=50,\n",
    "                                                         boundary_ring=False,\n",
    "                                                         interior_ring=False\n",
    "                                                         )"
   ]
  },
  {
   "cell_type": "code",
   "execution_count": null,
   "metadata": {},
   "outputs": [],
   "source": [
    "arrays_dict = {\n",
    "    'mean': mean_array,\n",
    "    'var1': var1_array,\n",
    "    'var2': var2_array\n",
    "}\n",
    "\n",
    "with open(\"unsmooth_arrays.pkl\", 'wb') as f:\n",
    "    pickle.dump(arrays_dict, f)"
   ]
  },
  {
   "cell_type": "markdown",
   "metadata": {},
   "source": [
    "## Learn Path after KDE smoothing in space and time"
   ]
  },
  {
   "cell_type": "code",
   "execution_count": 2,
   "metadata": {},
   "outputs": [
    {
     "name": "stderr",
     "output_type": "stream",
     "text": [
      "100%|██████████| 1913/1913 [4:06:55<00:00,  7.74s/it]    \n"
     ]
    }
   ],
   "source": [
    "frames_path = \"/Users/Malachite/Documents/UW/ARA/ARA-Plumes/plume_videos/July_20/video_high_1/time_blur\"\n",
    "save_path = \"blurred_path_frames\"\n",
    "orig_center = (1587,1035)\n",
    "\n",
    "mean_array, var1_array, var2_array = find_center_of_mass(frames_path=frames_path,\n",
    "                                                         center=orig_center,\n",
    "                                                         num_of_circs=22,\n",
    "                                                         radii=50,\n",
    "                                                         boundary_ring=False,\n",
    "                                                         interior_ring=False,\n",
    "                                                         save_path=save_path)"
   ]
  },
  {
   "cell_type": "code",
   "execution_count": 7,
   "metadata": {},
   "outputs": [],
   "source": [
    "arrays_dict = {\n",
    "    'mean': mean_array,\n",
    "    'var1': var1_array,\n",
    "    'var2': var2_array\n",
    "}\n",
    "\n",
    "with open(\"smooth_arrays.pkl\", 'wb') as f:\n",
    "    pickle.dump(arrays_dict,f)\n"
   ]
  },
  {
   "cell_type": "markdown",
   "metadata": {},
   "source": [
    "# Create Gif\n",
    "frames = 218 - 830"
   ]
  },
  {
   "cell_type": "code",
   "execution_count": null,
   "metadata": {},
   "outputs": [],
   "source": [
    "# frames_dir = \"/Users/Malachite/Documents/UW/ARA/ARA-Plumes/plume_videos/July_20/video_high_1/learned_path_frames\"\n",
    "# duration = 1\n",
    "# frames_range = [218,830] \n",
    "\n",
    "# create_gif(frames_dir=frames_dir,\n",
    "#            duration=duration,\n",
    "#            frames_range=frames_range)"
   ]
  },
  {
   "cell_type": "code",
   "execution_count": 4,
   "metadata": {},
   "outputs": [
    {
     "name": "stderr",
     "output_type": "stream",
     "text": [
      "100%|██████████| 612/612 [00:23<00:00, 26.39it/s]\n"
     ]
    }
   ],
   "source": [
    "frames_dir = \"/Users/Malachite/Documents/UW/ARA/ARA-Plumes/plume_videos/July_20/video_high_1/blurred_path_frames\"\n",
    "duration = 1\n",
    "frames_range = [218-2,830-2] \n",
    "\n",
    "create_gif(frames_dir=frames_dir,\n",
    "           duration=duration,\n",
    "           frames_range=frames_range,\n",
    "           gif_name=\"kde_animation\")"
   ]
  },
  {
   "cell_type": "markdown",
   "metadata": {},
   "source": [
    "# Apply SINDy"
   ]
  },
  {
   "cell_type": "code",
   "execution_count": null,
   "metadata": {},
   "outputs": [],
   "source": [
    "import pysindy as ps\n",
    "from sklearn.preprocessing import StandardScaler"
   ]
  },
  {
   "cell_type": "markdown",
   "metadata": {},
   "source": [
    "## Checking if pkl files saved"
   ]
  },
  {
   "cell_type": "code",
   "execution_count": 8,
   "metadata": {},
   "outputs": [],
   "source": [
    "with open(\"smooth_arrays.pkl\",'rb') as f:\n",
    "    loaded_arrays = pickle.load(f)\n",
    "\n",
    "mean_test = loaded_arrays[\"mean\"]\n",
    "var1_test = loaded_arrays[\"var1\"]\n",
    "var2_test = loaded_arrays[\"var2\"]\n"
   ]
  },
  {
   "cell_type": "code",
   "execution_count": 10,
   "metadata": {},
   "outputs": [
    {
     "name": "stdout",
     "output_type": "stream",
     "text": [
      "0.0\n",
      "0.0\n",
      "0.0\n"
     ]
    }
   ],
   "source": [
    "print(np.linalg.norm(mean_test-mean_array))\n",
    "print(np.linalg.norm(var1_test-var1_array))\n",
    "print(np.linalg.norm(var2_test-var2_array))"
   ]
  },
  {
   "cell_type": "code",
   "execution_count": null,
   "metadata": {},
   "outputs": [],
   "source": []
  }
 ],
 "metadata": {
  "kernelspec": {
   "display_name": "ARA-plume",
   "language": "python",
   "name": "python3"
  },
  "language_info": {
   "codemirror_mode": {
    "name": "ipython",
    "version": 3
   },
   "file_extension": ".py",
   "mimetype": "text/x-python",
   "name": "python",
   "nbconvert_exporter": "python",
   "pygments_lexer": "ipython3",
   "version": "3.11.4"
  },
  "orig_nbformat": 4
 },
 "nbformat": 4,
 "nbformat_minor": 2
}
