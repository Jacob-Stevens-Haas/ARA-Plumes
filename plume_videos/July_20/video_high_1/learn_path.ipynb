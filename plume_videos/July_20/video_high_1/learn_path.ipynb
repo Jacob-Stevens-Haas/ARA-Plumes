{
 "cells": [
  {
   "cell_type": "code",
   "execution_count": 1,
   "metadata": {},
   "outputs": [],
   "source": [
    "import sys\n",
    "sys.path.append('/Users/Malachite/Documents/UW/ARA/ARA-Plumes')\n",
    "\n",
    "from utils import *"
   ]
  },
  {
   "cell_type": "code",
   "execution_count": 2,
   "metadata": {},
   "outputs": [],
   "source": [
    "frames_path = \"/Users/Malachite/Documents/UW/ARA/ARA-Plumes/plume_videos/July_20/video_high_1/fixed_avg_frames\"\n",
    "orig_center = (1587, 1035)\n",
    "# mean_array, var1_array, var2_array = find_center_of_mass(frames_path=frames_path,\n",
    "#                                                          center=orig_center,\n",
    "#                                                          num_of_circs=22,\n",
    "#                                                          radii=50,\n",
    "#                                                          boundary_ring=False,\n",
    "#                                                          interior_ring=False\n",
    "#                                                          )"
   ]
  },
  {
   "cell_type": "markdown",
   "metadata": {},
   "source": [
    "## Learn Path after KDE smoothing in space and time"
   ]
  },
  {
   "cell_type": "code",
   "execution_count": 3,
   "metadata": {},
   "outputs": [
    {
     "name": "stderr",
     "output_type": "stream",
     "text": [
      "100%|██████████| 1913/1913 [21:37<00:00,  1.47it/s]\n"
     ]
    }
   ],
   "source": [
    "frames_path = \"/Users/Malachite/Documents/UW/ARA/ARA-Plumes/plume_videos/July_20/video_high_1/time_blur\"\n",
    "save_path = \"blurred_path_frames\"\n",
    "orig_center = (1587,1035)\n",
    "\n",
    "mean_array, var1_array, var2_array = find_center_of_mass(frames_path=frames_path,\n",
    "                                                         center=orig_center,\n",
    "                                                         num_of_circs=22,\n",
    "                                                         radii=50,\n",
    "                                                         boundary_ring=False,\n",
    "                                                         interior_ring=False,\n",
    "                                                         save_path=save_path)"
   ]
  },
  {
   "cell_type": "code",
   "execution_count": 5,
   "metadata": {},
   "outputs": [],
   "source": [
    "# import pickle\n",
    "# with open('mean_array.pkl', 'wb') as f:\n",
    "#     pickle.dump(mean_array,f)\n",
    "\n",
    "# with open('var1_array.pkl', 'wb') as f:\n",
    "#     pickle.dump(var1_array,f)\n",
    "\n",
    "# with open('var2_array.pkl', 'wb') as f:\n",
    "#     pickle.dump(var2_array,f)\n"
   ]
  },
  {
   "cell_type": "markdown",
   "metadata": {},
   "source": [
    "# Create Gif\n",
    "frames = 218 - 830"
   ]
  },
  {
   "cell_type": "code",
   "execution_count": 3,
   "metadata": {},
   "outputs": [
    {
     "name": "stderr",
     "output_type": "stream",
     "text": [
      "100%|██████████| 612/612 [00:34<00:00, 17.95it/s]\n"
     ]
    }
   ],
   "source": [
    "# frames_dir = \"/Users/Malachite/Documents/UW/ARA/ARA-Plumes/plume_videos/July_20/video_high_1/learned_path_frames\"\n",
    "# duration = 1\n",
    "# frames_range = [218,830] \n",
    "\n",
    "# create_gif(frames_dir=frames_dir,\n",
    "#            duration=duration,\n",
    "#            frames_range=frames_range)"
   ]
  },
  {
   "cell_type": "code",
   "execution_count": null,
   "metadata": {},
   "outputs": [],
   "source": [
    "frames_dir = \"/Users/Malachite/Documents/UW/ARA/ARA-Plumes/plume_videos/July_20/video_high_1/blurred_path_frames\"\n",
    "duration = 1\n",
    "frames_range = [218-2,830-2] \n",
    "\n",
    "create_gif(frames_dir=frames_dir,\n",
    "           duration=duration,\n",
    "           frames_range=frames_range,\n",
    "           gif_name=\"kde_animation\")"
   ]
  }
 ],
 "metadata": {
  "kernelspec": {
   "display_name": "ARA-plume",
   "language": "python",
   "name": "python3"
  },
  "language_info": {
   "codemirror_mode": {
    "name": "ipython",
    "version": 3
   },
   "file_extension": ".py",
   "mimetype": "text/x-python",
   "name": "python",
   "nbconvert_exporter": "python",
   "pygments_lexer": "ipython3",
   "version": "3.11.4"
  },
  "orig_nbformat": 4
 },
 "nbformat": 4,
 "nbformat_minor": 2
}
