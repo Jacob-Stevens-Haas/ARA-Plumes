{
 "cells": [
  {
   "cell_type": "code",
   "execution_count": 3,
   "metadata": {},
   "outputs": [],
   "source": [
    "import sys\n",
    "import pickle\n",
    "sys.path.append('/Users/Malachite/Documents/UW/ARA/ARA-Plumes')\n",
    "\n",
    "from utils import *"
   ]
  },
  {
   "cell_type": "markdown",
   "metadata": {},
   "source": [
    "## Learn without any smoothing"
   ]
  },
  {
   "cell_type": "code",
   "execution_count": null,
   "metadata": {},
   "outputs": [],
   "source": [
    "frames_path = \"/Users/Malachite/Documents/UW/ARA/ARA-Plumes/plume_videos/July_20/video_high_1/fixed_avg_frames\"\n",
    "orig_center = (1587, 1035)\n",
    "# mean_array, var1_array, var2_array = find_center_of_mass(frames_path=frames_path,\n",
    "#                                                          center=orig_center,\n",
    "#                                                          num_of_circs=22,\n",
    "#                                                          radii=50,\n",
    "#                                                          boundary_ring=False,\n",
    "#                                                          interior_ring=False,\n",
    "#                                                          save_figs=False\n",
    "#                                                          )"
   ]
  },
  {
   "cell_type": "code",
   "execution_count": null,
   "metadata": {},
   "outputs": [],
   "source": [
    "# Save arrays to pickle file\n",
    "# arrays_dict = {\n",
    "#     'mean': mean_array,\n",
    "#     'var1': var1_array,\n",
    "#     'var2': var2_array\n",
    "# }\n",
    "\n",
    "# with open(\"unsmooth_arrays.pkl\", 'wb') as f:\n",
    "#     pickle.dump(arrays_dict, f)"
   ]
  },
  {
   "cell_type": "markdown",
   "metadata": {},
   "source": [
    "## Learn Path after KDE smoothing in space and time"
   ]
  },
  {
   "cell_type": "code",
   "execution_count": null,
   "metadata": {},
   "outputs": [],
   "source": [
    "frames_path = \"/Users/Malachite/Documents/UW/ARA/ARA-Plumes/plume_videos/July_20/video_high_1/time_space_blur\"\n",
    "save_path = \"blurred_path_frames\"\n",
    "orig_center = (1587,1035)\n",
    "\n",
    "# mean_array, var1_array, var2_array = find_center_of_mass(frames_path=frames_path,\n",
    "#                                                          center=orig_center,\n",
    "#                                                          num_of_circs=22,\n",
    "#                                                          radii=50,\n",
    "#                                                          boundary_ring=False,\n",
    "#                                                          interior_ring=False,\n",
    "#                                                          save_path=save_path)"
   ]
  },
  {
   "cell_type": "code",
   "execution_count": null,
   "metadata": {},
   "outputs": [],
   "source": [
    "# Save Arrays to pickle file\n",
    "# arrays_dict = {\n",
    "#     'mean': mean_array,\n",
    "#     'var1': var1_array,\n",
    "#     'var2': var2_array\n",
    "# }\n",
    "\n",
    "# with open(\"smooth_arrays.pkl\", 'wb') as f:\n",
    "#     pickle.dump(arrays_dict,f)\n"
   ]
  },
  {
   "cell_type": "markdown",
   "metadata": {},
   "source": [
    "## Apply Smoothing to mean points"
   ]
  },
  {
   "cell_type": "code",
   "execution_count": 4,
   "metadata": {},
   "outputs": [
    {
     "name": "stdout",
     "output_type": "stream",
     "text": [
      "Sigma: 1\n",
      "Learning paths...\n"
     ]
    },
    {
     "name": "stderr",
     "output_type": "stream",
     "text": [
      "100%|██████████| 1913/1913 [2:22:36<00:00,  4.47s/it]     \n"
     ]
    },
    {
     "name": "stdout",
     "output_type": "stream",
     "text": [
      "Creating gif...\n"
     ]
    },
    {
     "name": "stderr",
     "output_type": "stream",
     "text": [
      "100%|██████████| 612/612 [00:18<00:00, 33.38it/s]\n"
     ]
    }
   ],
   "source": [
    "sig_vals = [1]\n",
    "\n",
    "for sig in sig_vals:\n",
    "    frames_path = \"/Users/Malachite/Documents/UW/ARA/ARA-Plumes/plume_videos/July_20/video_high_1/time_space_blur\"\n",
    "    save_path = f\"mean_smooth_frames_sig{sig}\"\n",
    "    orig_center = (1587,1035)\n",
    "    print(\"Sigma:\", sig)\n",
    "    print(\"Learning paths...\")\n",
    "    mean_array, var1_array, var2_array = find_center_of_mass(frames_path=frames_path,\n",
    "                                                            center=orig_center,\n",
    "                                                            num_of_circs=22,\n",
    "                                                            radii=50,\n",
    "                                                            boundary_ring=False,\n",
    "                                                            interior_ring=False,\n",
    "                                                            save_path=save_path,\n",
    "                                                            mean_smoothing=True,\n",
    "                                                            sigma=sig)\n",
    "    # Save arrays to pickle file\n",
    "    arrays_dict = {\n",
    "        \"mean\": mean_array,\n",
    "        'var1': var1_array,\n",
    "        'var2': var2_array\n",
    "    }\n",
    "\n",
    "    with open(f\"mean_smooth_sig{sig}_arrays.pkl\", 'wb') as f:\n",
    "        pickle.dump(arrays_dict,f)\n",
    "\n",
    "    # Creating gif\n",
    "    print(\"Creating gif...\")\n",
    "    frames_dir = f\"/Users/Malachite/Documents/UW/ARA/ARA-Plumes/plume_videos/July_20/video_high_1/mean_smooth_frames_sig{sig}\"\n",
    "    duration = 1\n",
    "    frames_range = [218-2,830-2] \n",
    "\n",
    "    create_gif(frames_dir=frames_dir,\n",
    "            duration=duration,\n",
    "            frames_range=frames_range, \n",
    "            gif_name=f\"kde_mean_animation_sig{sig}\")\n"
   ]
  },
  {
   "cell_type": "markdown",
   "metadata": {},
   "source": [
    "# Create Gif\n",
    "frames = 218 - 830"
   ]
  },
  {
   "cell_type": "code",
   "execution_count": null,
   "metadata": {},
   "outputs": [],
   "source": [
    "# frames_dir = \"/Users/Malachite/Documents/UW/ARA/ARA-Plumes/plume_videos/July_20/video_high_1/learned_path_frames\"\n",
    "# duration = 1\n",
    "# frames_range = [218,830] \n",
    "\n",
    "# create_gif(frames_dir=frames_dir,\n",
    "#            duration=duration,\n",
    "#            frames_range=frames_range)"
   ]
  },
  {
   "cell_type": "code",
   "execution_count": null,
   "metadata": {},
   "outputs": [],
   "source": [
    "# frames_dir = \"/Users/Malachite/Documents/UW/ARA/ARA-Plumes/plume_videos/July_20/video_high_1/blurred_path_frames\"\n",
    "# duration = 1\n",
    "# frames_range = [218-2,830-2] \n",
    "\n",
    "# create_gif(frames_dir=frames_dir,\n",
    "#            duration=duration,\n",
    "#            frames_range=frames_range, \n",
    "#            gif_name=\"kde_animation\")"
   ]
  },
  {
   "cell_type": "code",
   "execution_count": null,
   "metadata": {},
   "outputs": [],
   "source": []
  },
  {
   "cell_type": "markdown",
   "metadata": {},
   "source": [
    "# Apply SINDy"
   ]
  },
  {
   "cell_type": "code",
   "execution_count": null,
   "metadata": {},
   "outputs": [],
   "source": [
    "import pysindy as ps\n",
    "from sklearn.preprocessing import StandardScaler"
   ]
  },
  {
   "cell_type": "markdown",
   "metadata": {},
   "source": [
    "## Load in arrays"
   ]
  },
  {
   "cell_type": "code",
   "execution_count": null,
   "metadata": {},
   "outputs": [],
   "source": [
    "with open(\"smooth_arrays.pkl\",'rb') as f:\n",
    "    loaded_arrays = pickle.load(f)\n",
    "\n",
    "mean_array = loaded_arrays[\"mean\"]\n",
    "var1_array = loaded_arrays[\"var1\"]\n",
    "var2_array = loaded_arrays[\"var2\"]\n"
   ]
  },
  {
   "cell_type": "code",
   "execution_count": null,
   "metadata": {},
   "outputs": [],
   "source": [
    "data_to_learn = mean_array[216:841,:]\n",
    "data_to_learn.shape"
   ]
  },
  {
   "cell_type": "markdown",
   "metadata": {},
   "source": [
    "## Instantiate ensemble SINDy"
   ]
  },
  {
   "cell_type": "markdown",
   "metadata": {},
   "source": [
    "### Apply SINDy to smoothe data"
   ]
  },
  {
   "cell_type": "code",
   "execution_count": null,
   "metadata": {},
   "outputs": [],
   "source": [
    "frame_count = count_files(\"/Users/Malachite/Documents/UW/ARA/ARA-Plumes/plume_videos/July_20/video_high_1/frames\",'png')\n",
    "sec = 22\n",
    "fps = frame_count//sec\n",
    "fps\n",
    "\n",
    "start_time = 0\n",
    "end_time = frame_count//fps\n",
    "t = np.linspace(start_time,end_time,frame_count)\n",
    "t = t[216:840]\n",
    "t.shape\n",
    "\n"
   ]
  },
  {
   "cell_type": "code",
   "execution_count": null,
   "metadata": {},
   "outputs": [],
   "source": [
    "# SINDy model\n",
    "feature_names = ['a', 'b', 'c']\n",
    "ensemble_optimizer = ps.STLSQ()\n",
    "model = ps.SINDy(feature_names=feature_names, optimizer=ensemble_optimizer)\n",
    "model.fit(data_to_learn,t=t, ensemble=True, quiet=True)\n",
    "model.print()"
   ]
  },
  {
   "cell_type": "code",
   "execution_count": null,
   "metadata": {},
   "outputs": [],
   "source": [
    "# SINDy model NORMALIZED\n",
    "scalar = StandardScaler()\n",
    "normalized_data = scalar.fit_transform(data_to_learn)\n",
    "\n",
    "feature_names = ['a', 'b', 'c']\n",
    "ensemble_optimizer = ps.STLSQ()\n",
    "model = ps.SINDy(feature_names=feature_names, optimizer=ensemble_optimizer)\n",
    "model.fit(normalized_data,t=t, ensemble=True, quiet=True)\n",
    "model.print()"
   ]
  },
  {
   "cell_type": "markdown",
   "metadata": {},
   "source": [
    "### Apply SINDy to unsmoothed data"
   ]
  },
  {
   "cell_type": "code",
   "execution_count": null,
   "metadata": {},
   "outputs": [],
   "source": [
    "with open(\"unsmooth_arrays.pkl\", 'rb') as f:\n",
    "    loaded_arrays = pickle.load(f)\n",
    "\n",
    "mean_array = loaded_arrays[\"mean\"]\n",
    "var1_array = loaded_arrays[\"var1\"]\n",
    "var2_array = loaded_arrays[\"var2\"]"
   ]
  },
  {
   "cell_type": "code",
   "execution_count": null,
   "metadata": {},
   "outputs": [],
   "source": [
    "data_to_learn = mean_array[216+2:841+1,:]\n",
    "print(data_to_learn.shape)\n",
    "\n",
    "frame_count = count_files(\"/Users/Malachite/Documents/UW/ARA/ARA-Plumes/plume_videos/July_20/video_high_1/frames\",'png')\n",
    "sec = 22\n",
    "fps = frame_count//sec\n",
    "fps\n",
    "\n",
    "start_time = 0\n",
    "end_time = frame_count//fps\n",
    "t = np.linspace(start_time,end_time,frame_count)\n",
    "t = t[216+2:840+2]\n",
    "print(t.shape)\n",
    "\n"
   ]
  },
  {
   "cell_type": "code",
   "execution_count": null,
   "metadata": {},
   "outputs": [],
   "source": [
    "# SINDy model\n",
    "feature_names = ['a', 'b', 'c']\n",
    "ensemble_optimizer = ps.STLSQ()\n",
    "model = ps.SINDy(feature_names=feature_names, optimizer=ensemble_optimizer)\n",
    "model.fit(data_to_learn,t=t, ensemble=True, quiet=True)\n",
    "model.print()"
   ]
  },
  {
   "cell_type": "code",
   "execution_count": null,
   "metadata": {},
   "outputs": [],
   "source": [
    "scalar = StandardScaler()\n",
    "normalized_data = scalar.fit_transform(data_to_learn)\n",
    "\n",
    "feature_names = ['a', 'b', 'c']\n",
    "ensemble_optimizer = ps.STLSQ()\n",
    "model = ps.SINDy(feature_names=feature_names, optimizer=ensemble_optimizer)\n",
    "model.fit(normalized_data,t=t, ensemble=True, quiet=True)\n",
    "model.print()"
   ]
  },
  {
   "cell_type": "code",
   "execution_count": null,
   "metadata": {},
   "outputs": [],
   "source": [
    "for index, coeff in enumerate(model.coef_list):\n",
    "    if index > 12:\n",
    "        print(f\"i={index}\")\n",
    "        print(coeff[0],\"\\n\")"
   ]
  },
  {
   "cell_type": "code",
   "execution_count": null,
   "metadata": {},
   "outputs": [],
   "source": [
    "normalized_data"
   ]
  },
  {
   "cell_type": "code",
   "execution_count": null,
   "metadata": {},
   "outputs": [],
   "source": []
  }
 ],
 "metadata": {
  "kernelspec": {
   "display_name": "ARA-plume",
   "language": "python",
   "name": "python3"
  },
  "language_info": {
   "codemirror_mode": {
    "name": "ipython",
    "version": 3
   },
   "file_extension": ".py",
   "mimetype": "text/x-python",
   "name": "python",
   "nbconvert_exporter": "python",
   "pygments_lexer": "ipython3",
   "version": "3.11.4"
  },
  "orig_nbformat": 4
 },
 "nbformat": 4,
 "nbformat_minor": 2
}
