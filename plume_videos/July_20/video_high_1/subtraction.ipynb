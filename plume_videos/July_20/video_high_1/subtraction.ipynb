{
 "cells": [
  {
   "cell_type": "code",
   "execution_count": 1,
   "metadata": {},
   "outputs": [],
   "source": [
    "import sys\n",
    "sys.path.append('/Users/Malachite/Documents/UW/ARA/ARA-Plumes')\n",
    "\n",
    "from utils import *"
   ]
  },
  {
   "cell_type": "markdown",
   "metadata": {},
   "source": [
    "# Extract Video Frames"
   ]
  },
  {
   "cell_type": "code",
   "execution_count": 2,
   "metadata": {},
   "outputs": [],
   "source": [
    "video_path = \"/Users/Malachite/Documents/UW/ARA/ARA-Plumes/plume_videos/July_20/video_high_1/high_1.MP4\"\n",
    "# extract_all_frames(video_path = video_path)"
   ]
  },
  {
   "cell_type": "markdown",
   "metadata": {},
   "source": [
    "# Apply Fixed Subtraction"
   ]
  },
  {
   "cell_type": "code",
   "execution_count": 3,
   "metadata": {},
   "outputs": [
    {
     "data": {
      "text/plain": [
       "120"
      ]
     },
     "execution_count": 3,
     "metadata": {},
     "output_type": "execute_result"
    }
   ],
   "source": [
    "tot_frames = len(get_frame_ids(\"/Users/Malachite/Documents/UW/ARA/ARA-Plumes/plume_videos/July_20/video_high_1/frames\"))\n",
    "tot_sec = 22\n",
    "fps = tot_frames // tot_sec\n",
    "fps"
   ]
  },
  {
   "cell_type": "code",
   "execution_count": 5,
   "metadata": {},
   "outputs": [
    {
     "ename": "TypeError",
     "evalue": "'NoneType' object is not subscriptable",
     "output_type": "error",
     "traceback": [
      "\u001b[0;31m---------------------------------------------------------------------------\u001b[0m",
      "\u001b[0;31mTypeError\u001b[0m                                 Traceback (most recent call last)",
      "Cell \u001b[0;32mIn[5], line 4\u001b[0m\n\u001b[1;32m      1\u001b[0m frames_path \u001b[39m=\u001b[39m \u001b[39m\"\u001b[39m\u001b[39m/Users/Malachite/Documents/UW/ARA/ARA-Plumes/plume_videos/July_20/video_high_1/frames\u001b[39m\u001b[39m\"\u001b[39m\n\u001b[1;32m      2\u001b[0m background_range \u001b[39m=\u001b[39m [\u001b[39m0\u001b[39m, \u001b[39m722\u001b[39m]\n\u001b[0;32m----> 4\u001b[0m fixed_average_subtract(frames_path\u001b[39m=\u001b[39;49mframes_path,\n\u001b[1;32m      5\u001b[0m                        background_range\u001b[39m=\u001b[39;49mbackground_range)\n",
      "File \u001b[0;32m~/Documents/UW/ARA/ARA-Plumes/utils.py:187\u001b[0m, in \u001b[0;36mfixed_average_subtract\u001b[0;34m(frames_path, background_range, frames_range, extension, save_path, invert, normalize, grayscale)\u001b[0m\n\u001b[1;32m    184\u001b[0m     \u001b[39mraise\u001b[39;00m \u001b[39mValueError\u001b[39;00m(\u001b[39m\"\u001b[39m\u001b[39mframes_range must be a 2 int list, single int, or None type  (uses remaining frames).\u001b[39m\u001b[39m\"\u001b[39m)\n\u001b[1;32m    186\u001b[0m \u001b[39m# Get magnitude of number of pictures for naming convention\u001b[39;00m\n\u001b[0;32m--> 187\u001b[0m subtracted_mag \u001b[39m=\u001b[39m \u001b[39mlen\u001b[39m(\u001b[39mstr\u001b[39m(frames_range[\u001b[39m1\u001b[39;49m]\u001b[39m-\u001b[39mframes_range[\u001b[39m0\u001b[39m]))\n\u001b[1;32m    189\u001b[0m subtract_id \u001b[39m=\u001b[39m \u001b[39m0\u001b[39m \n\u001b[1;32m    190\u001b[0m \u001b[39mfor\u001b[39;00m current_id \u001b[39min\u001b[39;00m \u001b[39mrange\u001b[39m(start_frame,end_frame\u001b[39m+\u001b[39m\u001b[39m1\u001b[39m):\n",
      "\u001b[0;31mTypeError\u001b[0m: 'NoneType' object is not subscriptable"
     ]
    }
   ],
   "source": [
    "frames_path = \"/Users/Malachite/Documents/UW/ARA/ARA-Plumes/plume_videos/July_20/video_high_1/frames\"\n",
    "background_range = [0, 722]\n",
    "\n",
    "fixed_average_subtract(frames_path=frames_path,\n",
    "                       background_range=background_range)"
   ]
  },
  {
   "cell_type": "code",
   "execution_count": null,
   "metadata": {},
   "outputs": [],
   "source": []
  }
 ],
 "metadata": {
  "kernelspec": {
   "display_name": "ARA-plume",
   "language": "python",
   "name": "python3"
  },
  "language_info": {
   "codemirror_mode": {
    "name": "ipython",
    "version": 3
   },
   "file_extension": ".py",
   "mimetype": "text/x-python",
   "name": "python",
   "nbconvert_exporter": "python",
   "pygments_lexer": "ipython3",
   "version": "3.11.4"
  },
  "orig_nbformat": 4
 },
 "nbformat": 4,
 "nbformat_minor": 2
}
