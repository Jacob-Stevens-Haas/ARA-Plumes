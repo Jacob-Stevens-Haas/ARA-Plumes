{
 "cells": [
  {
   "cell_type": "code",
   "execution_count": 1,
   "metadata": {},
   "outputs": [],
   "source": [
    "import sys\n",
    "sys.path.append('/Users/Malachite/Documents/UW/ARA/Plumes')\n",
    "\n",
    "from utils import *"
   ]
  },
  {
   "attachments": {},
   "cell_type": "markdown",
   "metadata": {},
   "source": [
    "# Extract Video Frames"
   ]
  },
  {
   "cell_type": "code",
   "execution_count": 2,
   "metadata": {},
   "outputs": [],
   "source": [
    "video_path = \"/Users/Malachite/Documents/UW/ARA/Plumes/July_20/video_low_1/low_1.MP4\"\n",
    "extract_all_frames(video_path=video_path)"
   ]
  },
  {
   "attachments": {},
   "cell_type": "markdown",
   "metadata": {},
   "source": [
    "# Apply Subtraction"
   ]
  },
  {
   "cell_type": "code",
   "execution_count": 3,
   "metadata": {},
   "outputs": [
    {
     "data": {
      "text/plain": [
       "123"
      ]
     },
     "execution_count": 3,
     "metadata": {},
     "output_type": "execute_result"
    }
   ],
   "source": [
    "tot_frames = len(get_frame_ids(\"/Users/Malachite/Documents/UW/ARA/Plumes/July_20/video_low_1/frames\"))\n",
    "tot_sec = 20\n",
    "fps = tot_frames //tot_sec\n",
    "fps"
   ]
  },
  {
   "attachments": {},
   "cell_type": "markdown",
   "metadata": {},
   "source": [
    "## Fixed Subtraction"
   ]
  },
  {
   "cell_type": "code",
   "execution_count": 5,
   "metadata": {},
   "outputs": [],
   "source": [
    "end_frame = 800\n",
    "frames_path = \"/Users/Malachite/Documents/UW/ARA/Plumes/July_20/video_low_1/frames\"\n",
    "frames_range = [end_frame +1, tot_frames-1]\n",
    "background_range = [0,end_frame]\n",
    "invert = False"
   ]
  },
  {
   "cell_type": "code",
   "execution_count": 6,
   "metadata": {},
   "outputs": [],
   "source": [
    "fixed_average_subtract(frames_path=frames_path,\n",
    "                       frames_range=frames_range,\n",
    "                       background_range=background_range,\n",
    "                       invert=invert)"
   ]
  },
  {
   "attachments": {},
   "cell_type": "markdown",
   "metadata": {},
   "source": [
    "# Create Videos"
   ]
  },
  {
   "attachments": {},
   "cell_type": "markdown",
   "metadata": {},
   "source": [
    "## Fixed Average"
   ]
  },
  {
   "cell_type": "code",
   "execution_count": 9,
   "metadata": {},
   "outputs": [],
   "source": [
    "fixed_average_path = \"/Users/Malachite/Documents/UW/ARA/Plumes/July_20/video_low_1/fixed_avg_frames\"\n",
    "output_file = \"fixed_avg.mp4\"\n",
    "\n",
    "create_video(directory=fixed_average_path,\n",
    "             output_file=output_file,\n",
    "             fps=fps)"
   ]
  },
  {
   "cell_type": "code",
   "execution_count": null,
   "metadata": {},
   "outputs": [],
   "source": []
  }
 ],
 "metadata": {
  "kernelspec": {
   "display_name": "ARA-plume",
   "language": "python",
   "name": "python3"
  },
  "language_info": {
   "codemirror_mode": {
    "name": "ipython",
    "version": 3
   },
   "file_extension": ".py",
   "mimetype": "text/x-python",
   "name": "python",
   "nbconvert_exporter": "python",
   "pygments_lexer": "ipython3",
   "version": "3.11.4"
  },
  "orig_nbformat": 4
 },
 "nbformat": 4,
 "nbformat_minor": 2
}
