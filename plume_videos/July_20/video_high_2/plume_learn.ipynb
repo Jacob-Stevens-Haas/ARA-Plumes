{
 "cells": [
  {
   "cell_type": "code",
   "execution_count": 2,
   "metadata": {},
   "outputs": [],
   "source": [
    "import sys\n",
    "sys.path.append('/Users/Malachite/Documents/UW/ARA/ARA-Plumes/')\n",
    "from models import PLUME"
   ]
  },
  {
   "cell_type": "markdown",
   "metadata": {},
   "source": [
    "## Instantiate PLUME object"
   ]
  },
  {
   "cell_type": "code",
   "execution_count": 3,
   "metadata": {},
   "outputs": [],
   "source": [
    "video_path = \"/Users/Malachite/Documents/UW/ARA/ARA-Plumes/plume_videos/July_20/video_high_2/high_2.MP4\"\n",
    "plume_learner = PLUME(video_path=video_path)\n",
    "\n",
    "plume_leak_source = (1586, 1017)\n",
    "plume_learner.orig_center = plume_leak_source\n",
    "\n",
    "seconds = 2\n",
    "\n",
    "fixed_range = 4*119+34\n",
    "# img_range = [fixed_range+seconds*plume_learner.fps, plume_learner.tot_frames - plume_learner.fps*13]\n",
    "img_range = [fixed_range+seconds*plume_learner.fps, 600+fixed_range+seconds*plume_learner.fps]"
   ]
  },
  {
   "cell_type": "markdown",
   "metadata": {},
   "source": [
    "## Apply Concentric Circles"
   ]
  },
  {
   "cell_type": "code",
   "execution_count": 5,
   "metadata": {},
   "outputs": [],
   "source": [
    "folder_name = \"gauss_time_blur_2\"\n",
    "\n",
    "gauss_space_blur = True\n",
    "gauss_kernel_size = 251\n",
    "gauss_space_sigma = 105\n",
    "\n",
    "gauss_time_blur = True\n",
    "gauss_time_window = 5\n",
    "gauss_time_sigma =0.5\n",
    "\n",
    "\n",
    "mean_smoothing = True\n",
    "mean_smoothing_sigma = 3\n",
    "\n",
    "# output = plume_learner.train(img_range=img_range,\n",
    "#                              fixed_range=fixed_range,\n",
    "#                              gauss_space_blur=gauss_space_blur,\n",
    "#                              gauss_kernel_size=gauss_kernel_size,\n",
    "#                              gauss_space_sigma=gauss_space_sigma,\n",
    "#                              gauss_time_blur=gauss_time_blur,\n",
    "#                              gauss_time_window=gauss_time_window,\n",
    "#                              gauss_time_sigma=gauss_time_sigma,\n",
    "#                              mean_smoothing=mean_smoothing,\n",
    "#                              mean_smoothing_sigma=mean_smoothing_sigma)"
   ]
  },
  {
   "cell_type": "markdown",
   "metadata": {},
   "source": [
    "### Save arrays to pickle file"
   ]
  },
  {
   "cell_type": "code",
   "execution_count": 7,
   "metadata": {},
   "outputs": [],
   "source": [
    "import pickle"
   ]
  },
  {
   "cell_type": "markdown",
   "metadata": {},
   "source": [
    "## Save poly coeff"
   ]
  },
  {
   "cell_type": "code",
   "execution_count": null,
   "metadata": {},
   "outputs": [],
   "source": [
    "arrays_dict = {\n",
    "    'mean': plume_learner.mean_poly,\n",
    "    'var1': plume_learner.var1_poly,\n",
    "    'var2': plume_learner.var1_poly\n",
    "}\n",
    "\n",
    "pickle_name = folder_name+\"/gauss_blur_coeff.pkl\"\n",
    "\n",
    "with open(pickle_name, 'wb') as f:\n",
    "    pickle.dump(arrays_dict,f)"
   ]
  },
  {
   "cell_type": "markdown",
   "metadata": {},
   "source": [
    "## Load poly coeff"
   ]
  },
  {
   "cell_type": "code",
   "execution_count": 8,
   "metadata": {},
   "outputs": [],
   "source": [
    "pickle_path = \"/Users/Malachite/Documents/UW/ARA/ARA-Plumes/plume_videos/July_20/video_high_2/\"+folder_name+\"/gauss_blur_coeff.pkl\"\n",
    "\n",
    "with open(pickle_path, 'rb') as f:\n",
    "    loaded_arrays = pickle.load(f)\n",
    "\n",
    "mean_array = loaded_arrays[\"mean\"]\n",
    "var1_array = loaded_arrays[\"var1\"]\n",
    "var2_array = loaded_arrays[\"var2\"]"
   ]
  },
  {
   "cell_type": "markdown",
   "metadata": {},
   "source": [
    "## Apply an Ensemble SINDy"
   ]
  },
  {
   "cell_type": "code",
   "execution_count": 9,
   "metadata": {},
   "outputs": [],
   "source": [
    "import pysindy as ps\n",
    "from sklearn.preprocessing import StandardScaler\n",
    "import numpy as np"
   ]
  },
  {
   "cell_type": "code",
   "execution_count": 10,
   "metadata": {},
   "outputs": [],
   "source": [
    "start_time = 0\n",
    "end_time = mean_array.shape[0]/plume_learner.fps\n",
    "t = np.linspace(start_time,end_time,mean_array.shape[0])"
   ]
  },
  {
   "cell_type": "code",
   "execution_count": 11,
   "metadata": {},
   "outputs": [
    {
     "name": "stdout",
     "output_type": "stream",
     "text": [
      "(a)' = 0.000\n",
      "(b)' = -24.324 1 + 100.115 b + 334.868 a c + -79.766 b^2\n",
      "(c)' = -10034.870 1 + 148416587.508 a + 58774.856 b + 42.007 c + -169584133.395 a b + -449387.637 a c + -51621.401 b^2 + -156.968 b c\n"
     ]
    }
   ],
   "source": [
    "# SINDy model\n",
    "feature_names = ['a', 'b','c']\n",
    "ensemble_optimizer = ps.STLSQ()\n",
    "model = ps.SINDy(feature_names=feature_names,\n",
    "                 optimizer=ensemble_optimizer)\n",
    "model.fit(mean_array,t=t,ensemble=True,quiet=True)\n",
    "model.print()"
   ]
  },
  {
   "cell_type": "code",
   "execution_count": 12,
   "metadata": {},
   "outputs": [
    {
     "name": "stdout",
     "output_type": "stream",
     "text": [
      "(a)' = -6.097 1 + -190.262 a + -283.794 b + -93.078 c + 544.197 a^2 + 1619.270 a b + 572.035 a c + 1197.221 b^2 + 832.666 b c + 140.115 c^2\n",
      "(b)' = 5.948 1 + 188.482 a + 279.599 b + 92.058 c + -519.461 a^2 + -1539.611 a b + -539.485 a c + -1132.138 b^2 + -778.353 b c + -128.455 c^2\n",
      "(c)' = -5.523 1 + -179.371 a + -264.249 b + -87.498 c + 490.889 a^2 + 1445.018 a b + 501.155 a c + 1051.705 b^2 + 710.496 b c + 113.284 c^2\n"
     ]
    }
   ],
   "source": [
    "# SINDy model with normalized coeff\n",
    "scalar = StandardScaler()\n",
    "normalized_mean_array = scalar.fit_transform(mean_array)\n",
    "\n",
    "feature_names = ['a','b','c']\n",
    "ensemble_optimizer = ps.STLSQ()\n",
    "model = ps.SINDy(feature_names=feature_names,\n",
    "                 optimizer=ensemble_optimizer)\n",
    "model.fit(normalized_mean_array,t=t,ensemble=True,quiet=True)\n",
    "model.print()"
   ]
  },
  {
   "cell_type": "code",
   "execution_count": null,
   "metadata": {},
   "outputs": [],
   "source": []
  }
 ],
 "metadata": {
  "kernelspec": {
   "display_name": "ARA-plume",
   "language": "python",
   "name": "python3"
  },
  "language_info": {
   "codemirror_mode": {
    "name": "ipython",
    "version": 3
   },
   "file_extension": ".py",
   "mimetype": "text/x-python",
   "name": "python",
   "nbconvert_exporter": "python",
   "pygments_lexer": "ipython3",
   "version": "3.11.4"
  },
  "orig_nbformat": 4
 },
 "nbformat": 4,
 "nbformat_minor": 2
}
