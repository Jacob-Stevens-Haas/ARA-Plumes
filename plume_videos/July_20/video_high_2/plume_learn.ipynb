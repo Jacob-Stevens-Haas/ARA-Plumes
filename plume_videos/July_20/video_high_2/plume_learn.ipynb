{
 "cells": [
  {
   "cell_type": "code",
   "execution_count": 1,
   "metadata": {},
   "outputs": [],
   "source": [
    "import sys\n",
    "sys.path.append('/Users/Malachite/Documents/UW/ARA/ARA-Plumes/')\n",
    "from models import PLUME"
   ]
  },
  {
   "cell_type": "markdown",
   "metadata": {},
   "source": [
    "## Instantiate PLUME object"
   ]
  },
  {
   "cell_type": "code",
   "execution_count": 2,
   "metadata": {},
   "outputs": [],
   "source": [
    "video_path = \"/Users/Malachite/Documents/UW/ARA/ARA-Plumes/plume_videos/July_20/video_high_2/high_2.MP4\"\n",
    "plume_learner = PLUME(video_path=video_path)\n",
    "\n",
    "plume_leak_source = (1586, 1017)\n",
    "plume_learner.orig_center = plume_leak_source\n",
    "\n",
    "seconds = 2\n",
    "\n",
    "fixed_range = 4*119+34\n",
    "# img_range = [fixed_range+seconds*plume_learner.fps, plume_learner.tot_frames - plume_learner.fps*13]\n",
    "img_range = [fixed_range+seconds*plume_learner.fps, 600+fixed_range+seconds*plume_learner.fps]"
   ]
  },
  {
   "cell_type": "markdown",
   "metadata": {},
   "source": [
    "## Apply Concentric Circles"
   ]
  },
  {
   "cell_type": "code",
   "execution_count": 3,
   "metadata": {},
   "outputs": [
    {
     "name": "stdout",
     "output_type": "stream",
     "text": [
      "Creating background image...\n",
      "done.\n"
     ]
    },
    {
     "data": {
      "text/plain": [
       "None"
      ]
     },
     "metadata": {},
     "output_type": "display_data"
    },
    {
     "name": "stderr",
     "output_type": "stream",
     "text": [
      "100%|██████████| 600/600 [05:20<00:00,  1.87it/s]\n"
     ]
    }
   ],
   "source": [
    "output = plume_learner.train(img_range=img_range, fixed_range=fixed_range, save_path=\"Alex_tracked_focused\" )"
   ]
  },
  {
   "cell_type": "code",
   "execution_count": null,
   "metadata": {},
   "outputs": [],
   "source": [
    "plume_learner.mean_poly"
   ]
  },
  {
   "cell_type": "code",
   "execution_count": null,
   "metadata": {},
   "outputs": [],
   "source": []
  }
 ],
 "metadata": {
  "kernelspec": {
   "display_name": "ARA-plume",
   "language": "python",
   "name": "python3"
  },
  "language_info": {
   "codemirror_mode": {
    "name": "ipython",
    "version": 3
   },
   "file_extension": ".py",
   "mimetype": "text/x-python",
   "name": "python",
   "nbconvert_exporter": "python",
   "pygments_lexer": "ipython3",
   "version": "3.11.4"
  },
  "orig_nbformat": 4
 },
 "nbformat": 4,
 "nbformat_minor": 2
}
