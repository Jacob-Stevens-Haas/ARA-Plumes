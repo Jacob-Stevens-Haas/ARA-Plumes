{
 "cells": [
  {
   "cell_type": "code",
   "execution_count": 3,
   "metadata": {},
   "outputs": [],
   "source": [
    "import sys\n",
    "sys.path.append('/Users/Malachite/Documents/UW/ARA/Plumes')\n",
    "\n",
    "from utils import *"
   ]
  },
  {
   "attachments": {},
   "cell_type": "markdown",
   "metadata": {},
   "source": [
    "# Extract Video Frames"
   ]
  },
  {
   "cell_type": "code",
   "execution_count": 3,
   "metadata": {},
   "outputs": [],
   "source": [
    "video_path = \"/Users/Malachite/Documents/UW/ARA/Plumes/July_11/video2/2.MP4\"\n",
    "\n",
    "# Create \"frames\" folder to store all frames\n",
    "# extract_all_frames(video_path=video_path)"
   ]
  },
  {
   "attachments": {},
   "cell_type": "markdown",
   "metadata": {},
   "source": [
    "# Apply Subtraction"
   ]
  },
  {
   "cell_type": "code",
   "execution_count": 17,
   "metadata": {},
   "outputs": [
    {
     "data": {
      "text/plain": [
       "123"
      ]
     },
     "execution_count": 17,
     "metadata": {},
     "output_type": "execute_result"
    }
   ],
   "source": [
    "tot_frames = len(get_frame_ids(\"/Users/Malachite/Documents/UW/ARA/Plumes/July_11/video2/frames\"))\n",
    "tot_sec = 20\n",
    "fps = tot_frames//tot_sec\n",
    "fps"
   ]
  },
  {
   "attachments": {},
   "cell_type": "markdown",
   "metadata": {},
   "source": [
    "## Fixed Subtraction"
   ]
  },
  {
   "cell_type": "code",
   "execution_count": 10,
   "metadata": {},
   "outputs": [],
   "source": [
    "end_frame = 670\n",
    "frames_path = \"/Users/Malachite/Documents/UW/ARA/Plumes/July_11/video2/frames\"\n",
    "frames_range = [671, tot_frames-1]\n",
    "background_range = [0,670]\n",
    "invert = False"
   ]
  },
  {
   "cell_type": "code",
   "execution_count": 11,
   "metadata": {},
   "outputs": [],
   "source": [
    "# fixed_average_subtract(frames_path = frames_path,\n",
    "#                         frames_range =frames_range,\n",
    "#                         background_range = background_range,\n",
    "#                         invert = False)"
   ]
  },
  {
   "attachments": {},
   "cell_type": "markdown",
   "metadata": {},
   "source": [
    "## Moving Average"
   ]
  },
  {
   "cell_type": "code",
   "execution_count": 22,
   "metadata": {},
   "outputs": [],
   "source": [
    "frames_path = \"/Users/Malachite/Documents/UW/ARA/Plumes/July_11/video2/frames\"\n",
    "frames_range = [671, tot_frames-1]\n",
    "median_length = 210\n",
    "\n",
    "moving_average_subtract(frames_path=frames_path,\n",
    "                        frames_range=frames_range)"
   ]
  },
  {
   "attachments": {},
   "cell_type": "markdown",
   "metadata": {},
   "source": [
    "# Create Videos"
   ]
  },
  {
   "attachments": {},
   "cell_type": "markdown",
   "metadata": {},
   "source": [
    "## Fixed Average"
   ]
  },
  {
   "cell_type": "code",
   "execution_count": 13,
   "metadata": {},
   "outputs": [],
   "source": [
    "fixed_avg_path = \"/Users/Malachite/Documents/UW/ARA/Plumes/July_11/video2/fixed_avg_frames\"\n",
    "output_file = \"fixed_avg.mp4\"\n",
    "\n",
    "# create_video(directory=fixed_avg_path,\n",
    "#             output_file = output_file,\n",
    "#             fps =fps)\n"
   ]
  },
  {
   "attachments": {},
   "cell_type": "markdown",
   "metadata": {},
   "source": [
    "## Moving Average"
   ]
  },
  {
   "cell_type": "code",
   "execution_count": 25,
   "metadata": {},
   "outputs": [],
   "source": [
    "moving_avg_path = \"/Users/Malachite/Documents/UW/ARA/Plumes/July_11/video2/moving_avg_frames\"\n",
    "output_file = \"moving_avg.mp4\"\n",
    "\n",
    "create_video(directory=moving_avg_path,\n",
    "             output_file=output_file,\n",
    "             fps=fps)"
   ]
  },
  {
   "attachments": {},
   "cell_type": "markdown",
   "metadata": {},
   "source": [
    "# Create GIFs"
   ]
  },
  {
   "attachments": {},
   "cell_type": "markdown",
   "metadata": {},
   "source": [
    "## Fixed Average"
   ]
  },
  {
   "cell_type": "code",
   "execution_count": 16,
   "metadata": {},
   "outputs": [
    {
     "name": "stderr",
     "output_type": "stream",
     "text": [
      "  0%|          | 0/1690 [00:00<?, ?it/s]"
     ]
    },
    {
     "name": "stderr",
     "output_type": "stream",
     "text": [
      "100%|██████████| 1690/1690 [00:26<00:00, 63.50it/s]\n"
     ]
    }
   ],
   "source": [
    "frames_dir = \"/Users/Malachite/Documents/UW/ARA/Plumes/July_11/video2/fixed_avg_frames\"\n",
    "duration = 1\n",
    "frames_range=[0,1690]\n",
    "\n",
    "# create_gif(frames_dir=frames_dir,\n",
    "#            duration=duration,\n",
    "#            frames_range=frames_range)"
   ]
  },
  {
   "cell_type": "code",
   "execution_count": null,
   "metadata": {},
   "outputs": [],
   "source": []
  }
 ],
 "metadata": {
  "kernelspec": {
   "display_name": "ARA-plume",
   "language": "python",
   "name": "python3"
  },
  "language_info": {
   "codemirror_mode": {
    "name": "ipython",
    "version": 3
   },
   "file_extension": ".py",
   "mimetype": "text/x-python",
   "name": "python",
   "nbconvert_exporter": "python",
   "pygments_lexer": "ipython3",
   "version": "3.11.4"
  },
  "orig_nbformat": 4
 },
 "nbformat": 4,
 "nbformat_minor": 2
}
