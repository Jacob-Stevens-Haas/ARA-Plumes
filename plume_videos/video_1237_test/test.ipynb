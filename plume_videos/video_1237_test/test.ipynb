{
 "cells": [
  {
   "cell_type": "code",
   "execution_count": 6,
   "metadata": {},
   "outputs": [],
   "source": [
    "import sys\n",
    "sys.path.append('/Users/Malachite/Documents/UW/ARA_Research/GasVids')\n",
    "\n",
    "from utils import *"
   ]
  },
  {
   "cell_type": "code",
   "execution_count": 2,
   "metadata": {},
   "outputs": [],
   "source": [
    "frames_path = \"/Users/Malachite/Documents/UW/ARA_Research/GasVids/video_1237_test/frames\"\n",
    "frames_id = get_frame_ids(directory=frames_path, extension='png')\n",
    "\n",
    "# create background img\n",
    "start_frame = 0\n",
    "end_frame = 2700\n",
    "img_paths = [os.path.join(frames_path,frames_id[i]) for i in range(start_frame,end_frame+1)]\n",
    "img_count = len(img_paths)\n",
    "\n",
    "background_img_np = np.array(Image.open(img_paths[0])).astype(float)\n",
    "img_paths = img_paths[1:]\n",
    "for path in img_paths:\n",
    "    background_img_np += np.array(Image.open(path)).astype(float)  \n",
    "\n",
    "background_img_np = (background_img_np/img_count).astype(np.uint8)\n",
    "back_img = Image.fromarray(background_img_np)"
   ]
  },
  {
   "cell_type": "code",
   "execution_count": 5,
   "metadata": {},
   "outputs": [],
   "source": [
    "cur_path = os.path.join(frames_path,frames_id[-2000])\n",
    "cur_img = Image.open(cur_path)\n",
    "back_img.show()\n",
    "cur_img.show()\n",
    "sub_img = ImageChops.subtract(cur_img,back_img)\n",
    "inv_sub_img = ImageOps.invert(sub_img)\n",
    "sub_img.show()\n",
    "inv_sub_img.show()"
   ]
  },
  {
   "cell_type": "code",
   "execution_count": 4,
   "metadata": {},
   "outputs": [],
   "source": [
    "# img_paths = [os.path.join(frames_path,frames_id[i]) for i in range(start_frame,end_frame+1)]\n",
    "# test1 = np.array(Image.open(img_paths[0]))\n",
    "# test2 = np.array(Image.open(img_paths[1]))\n",
    "# test3 = np.array(Image.open(img_paths[3]))\n",
    "# test4 = np.array(Image.open(img_paths[4]))\n",
    "\n",
    "# test1 "
   ]
  },
  {
   "cell_type": "code",
   "execution_count": 18,
   "metadata": {},
   "outputs": [
    {
     "data": {
      "text/plain": [
       "array([[[ 21,  21,  21],\n",
       "        [ 20,  20,  20],\n",
       "        [ 20,  20,  20],\n",
       "        ...,\n",
       "        [  3,   3,   3],\n",
       "        [  3,   3,   3],\n",
       "        [  3,   3,   3]],\n",
       "\n",
       "       [[ 21,  21,  21],\n",
       "        [ 20,  20,  20],\n",
       "        [ 20,  20,  20],\n",
       "        ...,\n",
       "        [  3,   3,   3],\n",
       "        [  3,   3,   3],\n",
       "        [  3,   3,   3]],\n",
       "\n",
       "       [[ 21,  21,  21],\n",
       "        [ 20,  20,  20],\n",
       "        [ 20,  20,  20],\n",
       "        ...,\n",
       "        [  3,   3,   3],\n",
       "        [  3,   3,   3],\n",
       "        [  3,   3,   3]],\n",
       "\n",
       "       ...,\n",
       "\n",
       "       [[  9,   9,   9],\n",
       "        [  9,   9,   9],\n",
       "        [  9,   9,   9],\n",
       "        ...,\n",
       "        [  8,   8,   8],\n",
       "        [  8,   8,   8],\n",
       "        [ 11,  11,  11]],\n",
       "\n",
       "       [[  9,   9,   9],\n",
       "        [  9,   9,   9],\n",
       "        [  9,   9,   9],\n",
       "        ...,\n",
       "        [  5,   5,   5],\n",
       "        [  2,   2,   2],\n",
       "        [  3,   3,   3]],\n",
       "\n",
       "       [[  9,   9,   9],\n",
       "        [  9,   9,   9],\n",
       "        [  9,   9,   9],\n",
       "        ...,\n",
       "        [  5,   5,   5],\n",
       "        [252, 252, 252],\n",
       "        [251, 251, 251]]], dtype=uint8)"
      ]
     },
     "execution_count": 18,
     "metadata": {},
     "output_type": "execute_result"
    }
   ],
   "source": [
    "# print(np.array(Image.open(cur_path)))\n",
    "test_1 = cv2.imread(cur_path).astype(float)\n",
    "test_2 = cv2.imread(img_paths[0]).astype(float)\n",
    "\n",
    "test_3 = (test_1 + test_2)/2\n",
    "test_3 = cv2.subtract(test_1, test_2)\n",
    "test_3.astype(np.uint8)"
   ]
  },
  {
   "cell_type": "code",
   "execution_count": null,
   "metadata": {},
   "outputs": [],
   "source": []
  }
 ],
 "metadata": {
  "kernelspec": {
   "display_name": "ARA",
   "language": "python",
   "name": "python3"
  },
  "language_info": {
   "codemirror_mode": {
    "name": "ipython",
    "version": 3
   },
   "file_extension": ".py",
   "mimetype": "text/x-python",
   "name": "python",
   "nbconvert_exporter": "python",
   "pygments_lexer": "ipython3",
   "version": "3.11.3"
  },
  "orig_nbformat": 4
 },
 "nbformat": 4,
 "nbformat_minor": 2
}
