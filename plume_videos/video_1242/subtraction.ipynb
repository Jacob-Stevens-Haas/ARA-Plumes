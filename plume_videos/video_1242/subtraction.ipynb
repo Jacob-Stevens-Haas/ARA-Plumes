{
 "cells": [
  {
   "cell_type": "code",
   "execution_count": 1,
   "metadata": {},
   "outputs": [],
   "source": [
    "import sys\n",
    "sys.path.append('/Users/Malachite/Documents/UW/ARA/Plumes')\n",
    "\n",
    "from utils import *"
   ]
  },
  {
   "attachments": {},
   "cell_type": "markdown",
   "metadata": {},
   "source": [
    "# Extract Video Frames"
   ]
  },
  {
   "cell_type": "code",
   "execution_count": 2,
   "metadata": {},
   "outputs": [],
   "source": [
    "video_path = \"/Users/Malachite/Documents/UW/ARA_Research/GasVids/video_1242/MOV_1242.mp4\"\n",
    "\n",
    "# Create \"frames\" folder to store all frames\n",
    "# extract_all_frames(video_path=video_path)"
   ]
  },
  {
   "attachments": {},
   "cell_type": "markdown",
   "metadata": {},
   "source": [
    "# Apply Subtractions"
   ]
  },
  {
   "cell_type": "code",
   "execution_count": 3,
   "metadata": {},
   "outputs": [
    {
     "data": {
      "text/plain": [
       "15"
      ]
     },
     "execution_count": 3,
     "metadata": {},
     "output_type": "execute_result"
    }
   ],
   "source": [
    "tot_frames = len(get_frame_ids(\"/Users/Malachite/Documents/UW/ARA_Research/GasVids/video_1242/frames\"))\n",
    "tot_sec = 24*60+26\n",
    "fps = tot_frames//tot_sec\n",
    "fps"
   ]
  },
  {
   "attachments": {},
   "cell_type": "markdown",
   "metadata": {},
   "source": [
    "## Moving Average"
   ]
  },
  {
   "cell_type": "code",
   "execution_count": 4,
   "metadata": {},
   "outputs": [],
   "source": [
    "frames_path = \"/Users/Malachite/Documents/UW/ARA_Research/GasVids/video_1242/frames\"\n",
    "frames_range = [fps*(3*60+5), tot_frames-1]\n",
    "\n",
    "# Apply moving average subtract. Save frames in folder.\n",
    "# moving_average_subtract(frames_path=frames_path,\n",
    "#                         frames_range=frames_range)"
   ]
  },
  {
   "attachments": {},
   "cell_type": "markdown",
   "metadata": {},
   "source": [
    "## Fixed Average"
   ]
  },
  {
   "cell_type": "code",
   "execution_count": 5,
   "metadata": {},
   "outputs": [],
   "source": [
    "# Apply fixed average subtract. Save frames in folder. \n",
    "fixed_average_subtract(frames_path=frames_path,\n",
    "                       frames_range=frames_range)"
   ]
  },
  {
   "attachments": {},
   "cell_type": "markdown",
   "metadata": {},
   "source": [
    "# Create Videos"
   ]
  },
  {
   "attachments": {},
   "cell_type": "markdown",
   "metadata": {},
   "source": [
    "## Moving Average"
   ]
  },
  {
   "cell_type": "code",
   "execution_count": 6,
   "metadata": {},
   "outputs": [],
   "source": [
    "moving_avg_path = \"/Users/Malachite/Documents/UW/ARA_Research/GasVids/video_1242/moving_avg_frames\"\n",
    "output_file = \"moving_avg.mp4\"\n",
    "\n",
    "# create_video(directory=moving_avg_path,\n",
    "#              output_file=output_file)"
   ]
  },
  {
   "attachments": {},
   "cell_type": "markdown",
   "metadata": {},
   "source": [
    "## Fixed Average"
   ]
  },
  {
   "cell_type": "code",
   "execution_count": 7,
   "metadata": {},
   "outputs": [],
   "source": [
    "fixed_avg_path = \"/Users/Malachite/Documents/UW/ARA_Research/GasVids/video_1242/fixed_avg_frames\"\n",
    "output_file = \"fixed_avg.mp4\"\n",
    "\n",
    "create_video(directory=fixed_avg_path,\n",
    "             output_file=output_file)"
   ]
  },
  {
   "cell_type": "code",
   "execution_count": null,
   "metadata": {},
   "outputs": [],
   "source": []
  }
 ],
 "metadata": {
  "kernelspec": {
   "display_name": "ARA",
   "language": "python",
   "name": "python3"
  },
  "language_info": {
   "codemirror_mode": {
    "name": "ipython",
    "version": 3
   },
   "file_extension": ".py",
   "mimetype": "text/x-python",
   "name": "python",
   "nbconvert_exporter": "python",
   "pygments_lexer": "ipython3",
   "version": "3.11.3"
  },
  "orig_nbformat": 4
 },
 "nbformat": 4,
 "nbformat_minor": 2
}
