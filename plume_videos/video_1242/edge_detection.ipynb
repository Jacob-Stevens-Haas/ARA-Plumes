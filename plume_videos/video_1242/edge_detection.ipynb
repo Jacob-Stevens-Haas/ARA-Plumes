{
 "cells": [
  {
   "cell_type": "code",
   "execution_count": 1,
   "metadata": {},
   "outputs": [],
   "source": [
    "import sys\n",
    "sys.path.append('/Users/Malachite/Documents/UW/ARA/Plumes')\n",
    "\n",
    "from utils import *"
   ]
  },
  {
   "attachments": {},
   "cell_type": "markdown",
   "metadata": {},
   "source": [
    "# Edge Detection\n",
    "Am using the following [edge detection tutorial](https://www.sicara.fr/blog-technique/2019-03-12-edge-detection-in-opencv) for reference. "
   ]
  },
  {
   "cell_type": "code",
   "execution_count": 2,
   "metadata": {},
   "outputs": [],
   "source": [
    "frames_path = \"/Users/Malachite/Documents/UW/ARA/Plumes/video_1242/fixed_avg_frames\"\n",
    "d=10\n",
    "sigmaColor = 20\n",
    "sigmaSpace = 20\n",
    "\n",
    "# d=30\n",
    "# sigmaColor=20\n",
    "# sigmaSpace=30\n",
    "edge_detect(frames_path=frames_path,\n",
    "            save_path=\"test2_edge_frames\",\n",
    "            d=d,\n",
    "            sigmaColor=sigmaColor,\n",
    "            sigmaSpace=sigmaSpace)"
   ]
  },
  {
   "attachments": {},
   "cell_type": "markdown",
   "metadata": {},
   "source": [
    "# Create Video"
   ]
  },
  {
   "cell_type": "code",
   "execution_count": 3,
   "metadata": {},
   "outputs": [],
   "source": [
    "edge_frames = \"/Users/Malachite/Documents/UW/ARA/Plumes/video_1242/test2_edge_frames\"\n",
    "output_file = \"test2_edges_detected.mp4\"\n",
    "\n",
    "create_video(directory=edge_frames,\n",
    "             output_file=output_file)"
   ]
  },
  {
   "attachments": {},
   "cell_type": "markdown",
   "metadata": {},
   "source": [
    "# Create gifs\n",
    "### create edge gif"
   ]
  },
  {
   "cell_type": "code",
   "execution_count": 4,
   "metadata": {},
   "outputs": [
    {
     "name": "stderr",
     "output_type": "stream",
     "text": [
      "100%|██████████| 150/150 [00:00<00:00, 1127.40it/s]\n"
     ]
    }
   ],
   "source": [
    "frames_dir = \"/Users/Malachite/Documents/UW/ARA/Plumes/video_1242/test2_edge_frames\"\n",
    "frames_range = [10425, 10575]\n",
    "duration = 100 # Number of miliseconds per frame\n",
    "gif_name = \"test2_edge\"\n",
    "\n",
    "create_gif(frames_dir=frames_dir,\n",
    "           frames_range=frames_range,\n",
    "           duration=duration,\n",
    "           gif_name=gif_name)"
   ]
  },
  {
   "attachments": {},
   "cell_type": "markdown",
   "metadata": {},
   "source": [
    "### Create gif of original video"
   ]
  },
  {
   "cell_type": "code",
   "execution_count": 6,
   "metadata": {},
   "outputs": [
    {
     "name": "stderr",
     "output_type": "stream",
     "text": [
      "100%|██████████| 150/150 [00:00<00:00, 453.26it/s]\n"
     ]
    }
   ],
   "source": [
    "create_gif(frames_dir=\"/Users/Malachite/Documents/UW/ARA/Plumes/video_1242/frames\",\n",
    "           frames_range=frames_range,\n",
    "           duration=duration,\n",
    "           gif_name=\"orig\")"
   ]
  },
  {
   "cell_type": "code",
   "execution_count": null,
   "metadata": {},
   "outputs": [],
   "source": []
  }
 ],
 "metadata": {
  "kernelspec": {
   "display_name": "ARA",
   "language": "python",
   "name": "python3"
  },
  "language_info": {
   "codemirror_mode": {
    "name": "ipython",
    "version": 3
   },
   "file_extension": ".py",
   "mimetype": "text/x-python",
   "name": "python",
   "nbconvert_exporter": "python",
   "pygments_lexer": "ipython3",
   "version": "3.11.3"
  },
  "orig_nbformat": 4
 },
 "nbformat": 4,
 "nbformat_minor": 2
}
