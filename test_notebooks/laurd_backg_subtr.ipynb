{
 "cells": [
  {
   "cell_type": "code",
   "execution_count": 3,
   "metadata": {},
   "outputs": [],
   "source": [
    "import numpy as np\n",
    "import cv2\n",
    "# from moviepy.editor import VideoFileClip\n",
    "from IPython.display import clear_output, Image, display, HTML\n",
    "import matplotlib.pyplot as plt\n"
   ]
  },
  {
   "cell_type": "markdown",
   "metadata": {},
   "source": [
    "## Clip a shorter video segment (if desired)"
   ]
  },
  {
   "cell_type": "code",
   "execution_count": 4,
   "metadata": {},
   "outputs": [],
   "source": [
    "# set bounds on clip\n",
    "init_frame = 940\n",
    "fin_frame = 1400"
   ]
  },
  {
   "cell_type": "code",
   "execution_count": 5,
   "metadata": {},
   "outputs": [
    {
     "name": "stdout",
     "output_type": "stream",
     "text": [
      "first ret: True\n"
     ]
    },
    {
     "data": {
      "text/plain": [
       "None"
      ]
     },
     "metadata": {},
     "output_type": "display_data"
    },
    {
     "name": "stdout",
     "output_type": "stream",
     "text": [
      "finished\n"
     ]
    }
   ],
   "source": [
    "\n",
    "# desired video to work with\n",
    "video_path = \"/Users/Malachite/Documents/UW/ARA/ARA-Plumes/plume_videos/July_20/video_low_1/low_1.MP4\"\n",
    "\n",
    "video = cv2.VideoCapture(video_path)\n",
    "\n",
    "ret, frame = video.read()\n",
    "print(\"first ret:\", ret)\n",
    "\n",
    "# grabs video info for saving new file\n",
    "frame_width = int(video.get(3))\n",
    "frame_height = int(video.get(4))\n",
    "frame_rate = int(video.get(5))\n",
    "fourcc = cv2.VideoWriter_fourcc(*'mp4v')\n",
    "\n",
    "# file name for clip file output\n",
    "clip_title = 'low_1_clip.mp4'\n",
    "out = cv2.VideoWriter(clip_title,fourcc, frame_rate, (frame_width,frame_height),0)\n",
    "\n",
    "# comment out anything with \"display_handle\" if viewing the video is not desired\n",
    "display_handle=display(None, display_id=True)\n",
    "\n",
    "#loop that results in the writing of B&W shortened video clip\n",
    "k=0\n",
    "try:\n",
    "    while ret:\n",
    "        if k<fin_frame and k>=init_frame:\n",
    "            # print(\"entered?\")\n",
    "\n",
    "            frame = cv2.cvtColor(frame, cv2.COLOR_BGR2GRAY)\n",
    "\n",
    "            out.write(frame)\n",
    "            _, frame = cv2.imencode('.jpeg', frame) # What does this do?\n",
    "            # print(\"dislpay video\")\n",
    "            display_handle.update(Image(data=frame.tobytes()))\n",
    "            \n",
    "        k+=1\n",
    "        ret, frame = video.read()\n",
    "except KeyboardInterrupt:\n",
    "    pass\n",
    "finally:\n",
    "    print(\"finished\")\n",
    "    video.release()\n",
    "    out.release()\n",
    "    display_handle.update(None)"
   ]
  },
  {
   "cell_type": "code",
   "execution_count": null,
   "metadata": {},
   "outputs": [],
   "source": [
    "# checks out number of frames\n",
    "\n",
    "video = cv2.VideoCapture(clip_title)\n",
    "\n",
    "img_count = video.get(cv2.CAP_PROP_FRAME_COUNT)\n",
    "video.release()\n",
    "print(int(img_count))"
   ]
  },
  {
   "cell_type": "markdown",
   "metadata": {},
   "source": [
    "## Fixed Avg\n",
    "### Create Background Avg"
   ]
  },
  {
   "cell_type": "code",
   "execution_count": null,
   "metadata": {},
   "outputs": [],
   "source": [
    "# desired video to work with\n",
    "video_path = \"/Users/Malachite/Documents/UW/ARA/ARA-Plumes/plume_videos/July_20/video_low_1/low_1.MP4\"\n",
    "video = cv2.VideoCapture(video_path)\n",
    "\n",
    "# set number of frames to average\n",
    "img_count = 600."
   ]
  },
  {
   "cell_type": "code",
   "execution_count": null,
   "metadata": {},
   "outputs": [],
   "source": [
    "ret, frame = video.read()\n",
    "\n",
    "background_img_np =cv2.cvtColor(frame, cv2.COLOR_BGR2GRAY).astype(float)\n",
    "\n",
    "# sum up the frames in B&W in the form of numpy arrays\n",
    "# takes 'img_count' frames from the beginnning of the video clip\n",
    "k=0\n",
    "try:\n",
    "    while ret:\n",
    "        if k<img_count:\n",
    "            background_img_np += cv2.cvtColor(frame, cv2.COLOR_BGR2GRAY).astype(float)\n",
    "       \n",
    "        k+=1\n",
    "        ret, frame = video.read()\n",
    "except KeyboardInterrupt:\n",
    "    pass\n",
    "finally:\n",
    "    video.release()\n",
    "\n",
    "# takes average\n",
    "background_img_np = (background_img_np/img_count).astype(np.uint8)\n",
    "\n",
    "#save numpy array if desired for later use\n",
    "#np.save(\"low_1_fixed_bg.npy\", background_img_np)\n"
   ]
  },
  {
   "cell_type": "code",
   "execution_count": null,
   "metadata": {},
   "outputs": [],
   "source": [
    "# display final background image\n",
    "plt.imshow(background_img_np, cmap=\"gray\")\n",
    "plt.show()"
   ]
  },
  {
   "cell_type": "markdown",
   "metadata": {},
   "source": [
    "### Remove Background"
   ]
  },
  {
   "cell_type": "code",
   "execution_count": null,
   "metadata": {},
   "outputs": [],
   "source": [
    "# grab desired video clip to remove the fixed background (recommend shortened clip to save time)\n",
    "video = cv2.VideoCapture(clip_title)\n",
    "\n",
    "# load presaved numpy array for background\n",
    "# background_img_np = np.load(\"low_1_fixed_bg.npy\")\n",
    "\n",
    "# grabs video info for saving new file\n",
    "frame_width = int(video.get(3))\n",
    "frame_height = int(video.get(4))\n",
    "frame_rate = int(video.get(5))\n",
    "fourcc = cv2.VideoWriter_fourcc(*'mp4v')\n",
    "\n",
    "#name your background removed file\n",
    "fxd_bg_result = 'fxd_low_1.mp4'\n",
    "out = cv2.VideoWriter(fxd_bg_result,fourcc, frame_rate, (frame_width,frame_height),0)\n",
    "\n",
    "\n",
    "# loop should remove fixed background and save a B&W video of the result\n",
    "try:\n",
    "    while True:\n",
    "        ret, frame = video.read()\n",
    "        if ret==False:\n",
    "\n",
    "            break\n",
    "        frame = cv2.cvtColor(frame, cv2.COLOR_BGR2GRAY)\n",
    "\n",
    "        # removes background from frame\n",
    "        subtracted_img = cv2.subtract(frame.astype(np.uint8), background_img_np)\n",
    "\n",
    "        # Invert image color (if desired)\n",
    "        # subtracted_img=np.invert(subtracted_img)\n",
    "        \n",
    "        out.write(subtracted_img)\n",
    "except KeyboardInterrupt:\n",
    "    pass\n",
    "finally:\n",
    "    video.release()\n",
    "    out.release()\n",
    "\n",
    "    display_handle.update(None)"
   ]
  },
  {
   "cell_type": "code",
   "execution_count": null,
   "metadata": {},
   "outputs": [],
   "source": []
  },
  {
   "cell_type": "markdown",
   "metadata": {},
   "source": [
    "## Moving Avg"
   ]
  },
  {
   "cell_type": "code",
   "execution_count": null,
   "metadata": {},
   "outputs": [],
   "source": [
    "# set bounds on clip\n",
    "init_frame = 940\n",
    "fin_frame = 1400\n",
    "\n",
    "#number of frames to average for the moving average \n",
    "median_count = 300\n",
    "\n"
   ]
  },
  {
   "cell_type": "code",
   "execution_count": null,
   "metadata": {},
   "outputs": [],
   "source": [
    "# !!! WARNING: THIS PROCESS TAKES A WHILE !!!\n",
    "\n",
    "# Took ~25 min for HD video of 3 seconds\n",
    "\n",
    "video = cv2.VideoCapture(\"C:/Users/laure/Documents/ARA/low_1.MP4\")\n",
    "\n",
    "# grabs video info for saving new file\n",
    "frame_width = int(video.get(3))\n",
    "frame_height = int(video.get(4))\n",
    "frame_rate = int(video.get(5))\n",
    "fourcc = cv2.VideoWriter_fourcc(*'mp4v')\n",
    "\n",
    "# name of the clip of the changing background over time\n",
    "removal_clip_name = 'moving_removal_clip_300.mp4'\n",
    "out = cv2.VideoWriter(removal_clip_name,fourcc, frame_rate, (frame_width,frame_height),0)\n",
    "\n",
    "ret, frame = video.read()\n",
    "\n",
    "subtr_frames = np.zeros((1080, 1920,1))\n",
    "\n",
    "# this loop should save a clip of the moving average for the desired clip. it takes the preceding 'median_count' \n",
    "# frames and averages them for each frame in the desired background removed clip.\n",
    "k=0\n",
    "try:\n",
    "    while ret:\n",
    "        #adds current frame to average if within bounds\n",
    "        if k<fin_frame and k>=init_frame-median_count:\n",
    "            frame = cv2.cvtColor(frame, cv2.COLOR_BGR2GRAY).astype(float).reshape((frame.shape[0],frame.shape[1],1))\n",
    "            subtr_frames = np.dstack((subtr_frames,frame))\n",
    "\n",
    "        #takes mean of current set of frames if within bounds for the desired output clip \n",
    "        if k<fin_frame and k>=init_frame:\n",
    "            # remove first frame from stack, as it is out of bounds for the current average\n",
    "            subtr_frames = subtr_frames[:,:,1:]\n",
    "\n",
    "            # take average of frame stack\n",
    "            background_img_np = np.mean(subtr_frames,axis=2)\n",
    "            \n",
    "            background_img_np = background_img_np.astype(np.uint8)\n",
    "\n",
    "            out.write(background_img_np)\n",
    "        if k>=fin_frame:\n",
    "            break\n",
    "        k+=1\n",
    "        ret, frame = video.read()\n",
    "\n",
    "except KeyboardInterrupt:\n",
    "    pass\n",
    "finally:\n",
    "    video.release()\n",
    "    out.release()\n",
    "    \n"
   ]
  },
  {
   "cell_type": "code",
   "execution_count": null,
   "metadata": {},
   "outputs": [],
   "source": [
    "# checks out number of frames\n",
    "\n",
    "video = cv2.VideoCapture(removal_clip_name)\n",
    "\n",
    "img_count = video.get(cv2.CAP_PROP_FRAME_COUNT)\n",
    "video.release()\n",
    "print(img_count)"
   ]
  },
  {
   "cell_type": "code",
   "execution_count": null,
   "metadata": {},
   "outputs": [],
   "source": [
    "video = cv2.VideoCapture(clip_title)\n",
    "ret, frame = video.read()\n",
    "\n",
    "remove = cv2.VideoCapture(removal_clip_name)\n",
    "ret2, rem_frame = remove.read()\n",
    "\n",
    "# grabs video info for saving new file\n",
    "frame_width = int(video.get(3))\n",
    "frame_height = int(video.get(4))\n",
    "frame_rate = int(video.get(5))\n",
    "fourcc = cv2.VideoWriter_fourcc(*'mp4v')\n",
    "\n",
    "# name of the final moving average background removed clip\n",
    "moving_bg_end_clip = 'moving_low_1_300.mp4'\n",
    "out = cv2.VideoWriter(moving_bg_end_clip,fourcc, frame_rate, (frame_width,frame_height),0)\n",
    "\n",
    "# loop that removes the moving average background 'removal_clip_name' from shortened\n",
    "# video 'clip_title' which should be identical lengths (fin_frame - init_frame)\n",
    "# saved result is in B&W and saved as 'moving_bg_end_clip'\n",
    "k=0\n",
    "try:\n",
    "    while ret:\n",
    "        # if k<fin_frame and k>=init_frame and ret2:\n",
    "        if ret2:\n",
    "            frame = cv2.cvtColor(frame, cv2.COLOR_BGR2GRAY)\n",
    "            subtracted_img = cv2.subtract(frame.astype(np.uint8), cv2.cvtColor(rem_frame, cv2.COLOR_BGR2GRAY))\n",
    "\n",
    "            # Invert image color (if desired)\n",
    "            # subtracted_img=np.invert(subtracted_img)\n",
    "            \n",
    "            out.write(subtracted_img)\n",
    "            ret2, rem_frame = remove.read()\n",
    "        \n",
    "        k+=1 \n",
    "        ret, frame = video.read()\n",
    "        \n",
    "except KeyboardInterrupt:\n",
    "    pass\n",
    "finally:\n",
    "\n",
    "    video.release()\n",
    "    out.release()\n",
    "    remove.release()\n"
   ]
  },
  {
   "cell_type": "code",
   "execution_count": null,
   "metadata": {},
   "outputs": [],
   "source": []
  }
 ],
 "metadata": {
  "@webio": {
   "lastCommId": null,
   "lastKernelId": null
  },
  "kernelspec": {
   "display_name": "Python 3 (ipykernel)",
   "language": "python",
   "name": "python3"
  },
  "language_info": {
   "codemirror_mode": {
    "name": "ipython",
    "version": 3
   },
   "file_extension": ".py",
   "mimetype": "text/x-python",
   "name": "python",
   "nbconvert_exporter": "python",
   "pygments_lexer": "ipython3",
   "version": "3.11.4"
  }
 },
 "nbformat": 4,
 "nbformat_minor": 2
}
