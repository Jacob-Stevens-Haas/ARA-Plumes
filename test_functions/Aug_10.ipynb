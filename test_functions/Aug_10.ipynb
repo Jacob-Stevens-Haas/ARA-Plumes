{
 "cells": [
  {
   "cell_type": "code",
   "execution_count": 1,
   "metadata": {},
   "outputs": [],
   "source": [
    "# frame_555 - \n",
    "#627 - 664\n",
    "\n",
    "import sys\n",
    "sys.path.append('/Users/Malachite/Documents/UW/ARA/ARA-Plumes/')\n",
    "\n",
    "from utils import create_gif"
   ]
  },
  {
   "cell_type": "code",
   "execution_count": 2,
   "metadata": {},
   "outputs": [
    {
     "name": "stderr",
     "output_type": "stream",
     "text": [
      "100%|██████████| 38/38 [00:02<00:00, 18.22it/s]\n"
     ]
    }
   ],
   "source": [
    "# 627 - 664\n",
    "frames_path = \"/Users/Malachite/Documents/UW/ARA/ARA-Plumes/test_functions/Aug_10_gif_frames\"\n",
    "duration = 1\n",
    "gif_name = \"aug_10\"\n",
    "create_gif(frames_dir=frames_path,\n",
    "           duration=duration,\n",
    "           gif_name=gif_name)"
   ]
  },
  {
   "cell_type": "code",
   "execution_count": 3,
   "metadata": {},
   "outputs": [
    {
     "name": "stderr",
     "output_type": "stream",
     "text": [
      "100%|██████████| 73/73 [00:04<00:00, 16.39it/s]\n"
     ]
    }
   ],
   "source": [
    "# 528 - 600\n",
    "frames_path = \"/Users/Malachite/Documents/UW/ARA/ARA-Plumes/test_functions/Aug_10_gif2_frames\"\n",
    "duration=1\n",
    "gif_name = \"aug_10_second\"\n",
    "create_gif(frames_dir=frames_path,\n",
    "           duration=duration,\n",
    "           gif_name=gif_name)"
   ]
  },
  {
   "cell_type": "code",
   "execution_count": null,
   "metadata": {},
   "outputs": [],
   "source": []
  }
 ],
 "metadata": {
  "kernelspec": {
   "display_name": "ARA-plume",
   "language": "python",
   "name": "python3"
  },
  "language_info": {
   "codemirror_mode": {
    "name": "ipython",
    "version": 3
   },
   "file_extension": ".py",
   "mimetype": "text/x-python",
   "name": "python",
   "nbconvert_exporter": "python",
   "pygments_lexer": "ipython3",
   "version": "3.11.4"
  },
  "orig_nbformat": 4
 },
 "nbformat": 4,
 "nbformat_minor": 2
}
